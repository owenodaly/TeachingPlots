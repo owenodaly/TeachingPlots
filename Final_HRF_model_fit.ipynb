{
 "cells": [
  {
   "cell_type": "code",
   "execution_count": 6,
   "metadata": {
    "collapsed": false,
    "deletable": true,
    "editable": true,
    "scrolled": true
   },
   "outputs": [
    {
     "data": {
      "text/html": [
       "<script>\n",
       "code_show=true; \n",
       "function code_toggle() {\n",
       " if (code_show){\n",
       " $('div.input').hide();\n",
       " } else {\n",
       " $('div.input').show();\n",
       " }\n",
       " code_show = !code_show\n",
       "} \n",
       "$( document ).ready(code_toggle);\n",
       "</script>\n",
       "<form action=\"javascript:code_toggle()\"><input type=\"submit\" value=\"Click here to toggle on/off the raw code.\"></form>"
      ],
      "text/plain": [
       "<IPython.core.display.HTML object>"
      ]
     },
     "execution_count": 6,
     "metadata": {},
     "output_type": "execute_result"
    }
   ],
   "source": [
    "from IPython.display import HTML\n",
    "\n",
    "HTML('''<script>\n",
    "code_show=true; \n",
    "function code_toggle() {\n",
    " if (code_show){\n",
    " $('div.input').hide();\n",
    " } else {\n",
    " $('div.input').show();\n",
    " }\n",
    " code_show = !code_show\n",
    "} \n",
    "$( document ).ready(code_toggle);\n",
    "</script>\n",
    "<form action=\"javascript:code_toggle()\"><input type=\"submit\" value=\"Click here to toggle on/off the raw code.\"></form>''')\n"
   ]
  },
  {
   "cell_type": "code",
   "execution_count": 2,
   "metadata": {
    "collapsed": false,
    "deletable": true,
    "editable": true
   },
   "outputs": [],
   "source": [
    "from ipywidgets import interact, interactive, IntSlider, Layout, interact_manual \n",
    "import ipywidgets as widgets \n",
    "from IPython.display import display\n",
    "import numpy as np \n",
    "import matplotlib.pyplot as plt\n",
    "#%matplotlib inline\n",
    "import pandas as pd\n",
    "import nipy\n",
    "from nipy.modalities.fmri import hrf, utils\n",
    "from scipy import signal"
   ]
  },
  {
   "cell_type": "code",
   "execution_count": 3,
   "metadata": {
    "collapsed": false,
    "deletable": true,
    "editable": true
   },
   "outputs": [],
   "source": [
    "def func_gen(beta_0,beta_1,noise_magnitude):\n",
    "    real_beta_0 = 1.2\n",
    "    real_beta_1 = 2.3\n",
    "    \n",
    "    times = np.arange(0,300,0.1)\n",
    "    n_time_points = len(times)\n",
    "    neural_signal = np.zeros(n_time_points)\n",
    "    vals = [100,600,1100,1600,2100,2600]\n",
    "    neural_signal[vals] = 1\n",
    "    vals2 = []\n",
    "    for i in vals:\n",
    "        vals2.append(i+150)\n",
    "    neural_signal[vals2] = -1\n",
    "    neural_signal = np.cumsum(neural_signal)\n",
    "    \n",
    "    hrf_func = utils.lambdify_t(hrf.glover(utils.T))\n",
    "    t = np.linspace(0,25,200)\n",
    "    filtered = signal.convolve(neural_signal,hrf_func(t), mode='same')\n",
    "    normalized = (filtered-min(filtered))/(max(filtered)-min(filtered))\n",
    "    normalized = normalized\n",
    "    noise = np.random.normal(0,noise_magnitude, len(times))\n",
    "    raw_ts = real_beta_0 + noise + (normalized*real_beta_1)\n",
    "    fitted= beta_0 + normalized*beta_1\n",
    "    plt.figure(figsize=(12,12))\n",
    "    plt.plot(times,raw_ts)\n",
    "    plt.plot(times,fitted)\n",
    "    error= sum((raw_ts - fitted)**2)\n",
    "    #title = print(' + %0.2f' %error)\n",
    "    #title =  title(\"\\$\\\\pi\\$ = $pi\")\n",
    "    plt.title(\"y = beta_0 + beta_1*x + error \\n raw_data = %5.2f + %5.2f*x + %5.2f \\n fitted_data = %5.2f + %5.2f*x\" % (beta_0, beta_1,  error, beta_0, beta_1), fontsize=30)\n",
    "    plt.legend\n",
    "    #plt.grid(True)\n",
    "    plt.show()\n",
    "    return (times, raw_ts, error, beta_0,beta_1, normalized,fitted)"
   ]
  },
  {
   "cell_type": "code",
   "execution_count": 4,
   "metadata": {
    "collapsed": false,
    "deletable": true,
    "editable": true
   },
   "outputs": [
    {
     "data": {
      "application/vnd.jupyter.widget-view+json": {
       "model_id": "89340254557248f78c0b2a64996158e4"
      }
     },
     "metadata": {},
     "output_type": "display_data"
    }
   ],
   "source": [
    "p=interactive(func_gen, beta_0 = (-2,2,0.1), beta_1=(0,5,.1), noise_magnitude=(0,1,.05))\n",
    "display(p)"
   ]
  },
  {
   "cell_type": "code",
   "execution_count": 5,
   "metadata": {
    "collapsed": true,
    "deletable": true,
    "editable": true
   },
   "outputs": [],
   "source": [
    "age = [22.5,  25.3,  24.6,  21.4,\n",
    "...        20.7,  23.3,  23.8,  21.7,\n",
    "...        21.3, 25.2,  24.6,  21.8]"
   ]
  },
  {
   "cell_type": "code",
   "execution_count": null,
   "metadata": {
    "collapsed": false,
    "deletable": true,
    "editable": true
   },
   "outputs": [],
   "source": []
  },
  {
   "cell_type": "code",
   "execution_count": null,
   "metadata": {
    "collapsed": true,
    "deletable": true,
    "editable": true
   },
   "outputs": [],
   "source": []
  },
  {
   "cell_type": "code",
   "execution_count": null,
   "metadata": {
    "collapsed": true,
    "deletable": true,
    "editable": true
   },
   "outputs": [],
   "source": []
  }
 ],
 "metadata": {
  "kernelspec": {
   "display_name": "Python 3",
   "language": "python",
   "name": "python3"
  },
  "language_info": {
   "codemirror_mode": {
    "name": "ipython",
    "version": 3
   },
   "file_extension": ".py",
   "mimetype": "text/x-python",
   "name": "python",
   "nbconvert_exporter": "python",
   "pygments_lexer": "ipython3",
   "version": "3.5.2"
  },
  "widgets": {
   "application/vnd.jupyter.widget-state+json": {
    "state": {
     "019beb3db3ab4ac6adf713105962647c": {
      "model_module": "jupyter-js-widgets",
      "model_module_version": "~2.1.4",
      "model_name": "FloatSliderModel",
      "state": {
       "_model_module_version": "~2.1.4",
       "_view_module_version": "~2.1.4",
       "description": "beta_0",
       "layout": "IPY_MODEL_e6360542e4194ae09efbadf65336eafa",
       "max": 2,
       "min": -2,
       "step": 0.1
      }
     },
     "04781b0735114e3c8390ccbccb265525": {
      "model_module": "jupyter-js-widgets",
      "model_module_version": "~2.1.4",
      "model_name": "LayoutModel",
      "state": {
       "_model_module_version": "~2.1.4",
       "_view_module_version": "~2.1.4"
      }
     },
     "078708f09a1a4c16af216cf491f0494e": {
      "model_module": "jupyter-js-widgets",
      "model_module_version": "~2.1.4",
      "model_name": "LayoutModel",
      "state": {
       "_model_module_version": "~2.1.4",
       "_view_module_version": "~2.1.4"
      }
     },
     "07eaee945fb54029ab7936d684ab5b04": {
      "model_module": "jupyter-js-widgets",
      "model_module_version": "~2.1.4",
      "model_name": "FloatSliderModel",
      "state": {
       "_model_module_version": "~2.1.4",
       "_view_module_version": "~2.1.4",
       "description": "beta_1",
       "layout": "IPY_MODEL_a3f3c33cebce442f81fc115ef2e3e169",
       "max": 5,
       "step": 0.1,
       "value": 2.3
      }
     },
     "08c8a9d044f6400dbdc153335ba2ccdc": {
      "model_module": "jupyter-js-widgets",
      "model_module_version": "~2.1.4",
      "model_name": "LayoutModel",
      "state": {
       "_model_module_version": "~2.1.4",
       "_view_module_version": "~2.1.4"
      }
     },
     "094daf0a2bab474ab06bb3bf7ce4faa1": {
      "model_module": "jupyter-js-widgets",
      "model_module_version": "~2.1.4",
      "model_name": "FloatSliderModel",
      "state": {
       "_model_module_version": "~2.1.4",
       "_view_module_version": "~2.1.4",
       "description": "beta_1",
       "layout": "IPY_MODEL_2c0b15bb7232496bb188debcb69350b1",
       "max": 5,
       "step": 0.1,
       "value": 2
      }
     },
     "09786b0c84e3455c8aaf48bc7072226c": {
      "model_module": "jupyter-js-widgets",
      "model_module_version": "~2.1.4",
      "model_name": "LayoutModel",
      "state": {
       "_model_module_version": "~2.1.4",
       "_view_module_version": "~2.1.4"
      }
     },
     "09bc8e68b7eb4ec38cfdec45c2d2b6f5": {
      "model_module": "jupyter-js-widgets",
      "model_module_version": "~2.1.4",
      "model_name": "LayoutModel",
      "state": {
       "_model_module_version": "~2.1.4",
       "_view_module_version": "~2.1.4"
      }
     },
     "0a22ff82b91d43d2b1e7fca3b50b0335": {
      "model_module": "jupyter-js-widgets",
      "model_module_version": "~2.1.4",
      "model_name": "OutputModel",
      "state": {
       "_dom_classes": [],
       "_model_module": "jupyter-js-widgets",
       "_model_module_version": "~2.1.4",
       "_view_module": "jupyter-js-widgets",
       "_view_module_version": "~2.1.4",
       "layout": "IPY_MODEL_52478649fe7143748ee5533ba067d971",
       "msg_throttle": 1
      }
     },
     "0c9a429b40b84ff89f7e18188078d9ee": {
      "model_module": "jupyter-js-widgets",
      "model_module_version": "~2.1.4",
      "model_name": "FloatSliderModel",
      "state": {
       "_model_module_version": "~2.1.4",
       "_view_module_version": "~2.1.4",
       "description": "beta_0",
       "layout": "IPY_MODEL_50fd344ff2a84fdfa6a5234d42cad239",
       "max": 2,
       "min": -2,
       "step": 0.1
      }
     },
     "0d39e8fc56244378b0497ebea276f31c": {
      "model_module": "jupyter-js-widgets",
      "model_module_version": "~2.1.4",
      "model_name": "OutputModel",
      "state": {
       "_dom_classes": [],
       "_model_module": "jupyter-js-widgets",
       "_model_module_version": "~2.1.4",
       "_view_module": "jupyter-js-widgets",
       "_view_module_version": "~2.1.4",
       "layout": "IPY_MODEL_60083cbd90754236808b616cd072347a",
       "msg_throttle": 1
      }
     },
     "117e3d8a3116458abfcea51287b133ca": {
      "model_module": "jupyter-js-widgets",
      "model_module_version": "~2.1.4",
      "model_name": "VBoxModel",
      "state": {
       "_dom_classes": [
        "widget-interact"
       ],
       "_model_module_version": "~2.1.4",
       "_view_module_version": "~2.1.4",
       "children": [
        "IPY_MODEL_c087bc2b5faa49e68c0106def2e307bf",
        "IPY_MODEL_a7b2061da541477281d2d34b90aeb9fa",
        "IPY_MODEL_ae003951a4a24c9690a8dcb3f37405cf",
        "IPY_MODEL_a9750c41fa514e5281a1ba8d9f38e406"
       ],
       "layout": "IPY_MODEL_258a716d01a145939ecc60c04ee3a3cf"
      }
     },
     "11fa58c542e04fe6bb79c9c97a628b4c": {
      "model_module": "jupyter-js-widgets",
      "model_module_version": "~2.1.4",
      "model_name": "LayoutModel",
      "state": {
       "_model_module_version": "~2.1.4",
       "_view_module_version": "~2.1.4"
      }
     },
     "16c99e79ffce434facff79d5e4379b82": {
      "model_module": "jupyter-js-widgets",
      "model_module_version": "~2.1.4",
      "model_name": "LayoutModel",
      "state": {
       "_model_module_version": "~2.1.4",
       "_view_module_version": "~2.1.4"
      }
     },
     "17e82fe7902d49c4a307dd800fc8c809": {
      "model_module": "jupyter-js-widgets",
      "model_module_version": "~2.1.4",
      "model_name": "FloatSliderModel",
      "state": {
       "_model_module_version": "~2.1.4",
       "_view_module_version": "~2.1.4",
       "description": "beta_1",
       "layout": "IPY_MODEL_9b5e03f21853447aa0b3de1797d18af2",
       "max": 5,
       "step": 0.1,
       "value": 2
      }
     },
     "19d4905ec3e64307a0182b374950a716": {
      "model_module": "jupyter-js-widgets",
      "model_module_version": "~2.1.4",
      "model_name": "LayoutModel",
      "state": {
       "_model_module_version": "~2.1.4",
       "_view_module_version": "~2.1.4"
      }
     },
     "1bdcd5b48aa14f7e9e8505b390c7ac60": {
      "model_module": "jupyter-js-widgets",
      "model_module_version": "~2.1.4",
      "model_name": "LayoutModel",
      "state": {
       "_model_module_version": "~2.1.4",
       "_view_module_version": "~2.1.4"
      }
     },
     "1beb72c06d404363ab863e96080c06e9": {
      "model_module": "jupyter-js-widgets",
      "model_module_version": "~2.1.4",
      "model_name": "LayoutModel",
      "state": {
       "_model_module_version": "~2.1.4",
       "_view_module_version": "~2.1.4"
      }
     },
     "1cf441f7e7004de4afd9d353b97141a7": {
      "model_module": "jupyter-js-widgets",
      "model_module_version": "~2.1.4",
      "model_name": "FloatSliderModel",
      "state": {
       "_model_module_version": "~2.1.4",
       "_view_module_version": "~2.1.4",
       "description": "noise_magnitude",
       "layout": "IPY_MODEL_9d837b87e4a74823b6fcfac37b8dd227",
       "max": 1,
       "step": 0.05
      }
     },
     "1f4bd8efb70349198bd20248c2030ad2": {
      "model_module": "jupyter-js-widgets",
      "model_module_version": "~2.1.4",
      "model_name": "LayoutModel",
      "state": {
       "_model_module_version": "~2.1.4",
       "_view_module_version": "~2.1.4"
      }
     },
     "200537d7ce904d18b500f6fb2936515f": {
      "model_module": "jupyter-js-widgets",
      "model_module_version": "~2.1.4",
      "model_name": "LayoutModel",
      "state": {
       "_model_module_version": "~2.1.4",
       "_view_module_version": "~2.1.4"
      }
     },
     "217818bf3bb8420a821dab335003a214": {
      "model_module": "jupyter-js-widgets",
      "model_module_version": "~2.1.4",
      "model_name": "LayoutModel",
      "state": {
       "_model_module_version": "~2.1.4",
       "_view_module_version": "~2.1.4"
      }
     },
     "21d0309d64f14387b2dbacfa703417a2": {
      "model_module": "jupyter-js-widgets",
      "model_module_version": "~2.1.4",
      "model_name": "VBoxModel",
      "state": {
       "_dom_classes": [
        "widget-interact"
       ],
       "_model_module_version": "~2.1.4",
       "_view_module_version": "~2.1.4",
       "children": [
        "IPY_MODEL_ea26cfa69c4844319a1254d182ff8a64",
        "IPY_MODEL_cb3d3400b49541948aebc407336ca7b9",
        "IPY_MODEL_a54ef7121ff64ee39be0c56ead767dd3",
        "IPY_MODEL_67c7c9d9a065411f85ca1cb0396afbf1"
       ],
       "layout": "IPY_MODEL_f06afad951ad4770bca54db1634d90cb"
      }
     },
     "221d16ceddee4297bb4c3c6945918e00": {
      "model_module": "jupyter-js-widgets",
      "model_module_version": "~2.1.4",
      "model_name": "LayoutModel",
      "state": {
       "_model_module_version": "~2.1.4",
       "_view_module_version": "~2.1.4"
      }
     },
     "228e6825dd454437826532cf25fd67bc": {
      "model_module": "jupyter-js-widgets",
      "model_module_version": "~2.1.4",
      "model_name": "FloatSliderModel",
      "state": {
       "_model_module_version": "~2.1.4",
       "_view_module_version": "~2.1.4",
       "description": "noise_magnitude",
       "layout": "IPY_MODEL_6713ac8b0a0541cb994e84f2db320742",
       "max": 1,
       "step": 0.05
      }
     },
     "22f1481d317e4d6f9ce47fb21fec8232": {
      "model_module": "jupyter-js-widgets",
      "model_module_version": "~2.1.4",
      "model_name": "LayoutModel",
      "state": {
       "_model_module_version": "~2.1.4",
       "_view_module_version": "~2.1.4"
      }
     },
     "2357828ac9bb4be09b2cdbae52806568": {
      "model_module": "jupyter-js-widgets",
      "model_module_version": "~2.1.4",
      "model_name": "FloatSliderModel",
      "state": {
       "_model_module_version": "~2.1.4",
       "_view_module_version": "~2.1.4",
       "description": "noise_magnitude",
       "layout": "IPY_MODEL_365cb17b81264f878173573e1b9c758f",
       "max": 1,
       "step": 0.05
      }
     },
     "2376170f51404020998cea3e4fd8ca4f": {
      "model_module": "jupyter-js-widgets",
      "model_module_version": "~2.1.4",
      "model_name": "LayoutModel",
      "state": {
       "_model_module_version": "~2.1.4",
       "_view_module_version": "~2.1.4"
      }
     },
     "25662d61c77d4ef8bf53aeb5947e8317": {
      "model_module": "jupyter-js-widgets",
      "model_module_version": "~2.1.4",
      "model_name": "VBoxModel",
      "state": {
       "_dom_classes": [
        "widget-interact"
       ],
       "_model_module_version": "~2.1.4",
       "_view_module_version": "~2.1.4",
       "children": [
        "IPY_MODEL_f9b1c36758f54293b257c4a44ea101d8",
        "IPY_MODEL_51e2b11306d448048bd99a9838b21c9a",
        "IPY_MODEL_3465b557358e4ec387bf11779a482edb",
        "IPY_MODEL_0d39e8fc56244378b0497ebea276f31c"
       ],
       "layout": "IPY_MODEL_04781b0735114e3c8390ccbccb265525"
      }
     },
     "258a716d01a145939ecc60c04ee3a3cf": {
      "model_module": "jupyter-js-widgets",
      "model_module_version": "~2.1.4",
      "model_name": "LayoutModel",
      "state": {
       "_model_module_version": "~2.1.4",
       "_view_module_version": "~2.1.4"
      }
     },
     "28ec364a0d614cb7b20df950f43921b8": {
      "model_module": "jupyter-js-widgets",
      "model_module_version": "~2.1.4",
      "model_name": "FloatSliderModel",
      "state": {
       "_model_module_version": "~2.1.4",
       "_view_module_version": "~2.1.4",
       "description": "beta_0",
       "layout": "IPY_MODEL_670a727a9e5e4f4cbb446fdf4879091c",
       "max": 2,
       "min": -2,
       "step": 0.1
      }
     },
     "29317f5398b54f4b901e9f42b7dc73e0": {
      "model_module": "jupyter-js-widgets",
      "model_module_version": "~2.1.4",
      "model_name": "LayoutModel",
      "state": {
       "_model_module_version": "~2.1.4",
       "_view_module_version": "~2.1.4"
      }
     },
     "29640491680a41b0bc386fc06a1acf0f": {
      "model_module": "jupyter-js-widgets",
      "model_module_version": "~2.1.4",
      "model_name": "FloatSliderModel",
      "state": {
       "_model_module_version": "~2.1.4",
       "_view_module_version": "~2.1.4",
       "description": "beta_1",
       "layout": "IPY_MODEL_e4de915154a04c2fa9ec1bfae73e3112",
       "max": 5,
       "step": 0.1,
       "value": 2
      }
     },
     "2a1c81bb437f439fbca7f63065302453": {
      "model_module": "jupyter-js-widgets",
      "model_module_version": "~2.1.4",
      "model_name": "OutputModel",
      "state": {
       "_dom_classes": [],
       "_model_module": "jupyter-js-widgets",
       "_model_module_version": "~2.1.4",
       "_view_module": "jupyter-js-widgets",
       "_view_module_version": "~2.1.4",
       "layout": "IPY_MODEL_3ca692a8177248d28e84616d42dd74ca",
       "msg_throttle": 1
      }
     },
     "2a8cbf9f9d0a4cc1a8eb8dd224a422c8": {
      "model_module": "jupyter-js-widgets",
      "model_module_version": "~2.1.4",
      "model_name": "LayoutModel",
      "state": {
       "_model_module_version": "~2.1.4",
       "_view_module_version": "~2.1.4"
      }
     },
     "2c0b15bb7232496bb188debcb69350b1": {
      "model_module": "jupyter-js-widgets",
      "model_module_version": "~2.1.4",
      "model_name": "LayoutModel",
      "state": {
       "_model_module_version": "~2.1.4",
       "_view_module_version": "~2.1.4"
      }
     },
     "2c26d6c610c04c77b635ff76d920c62e": {
      "model_module": "jupyter-js-widgets",
      "model_module_version": "~2.1.4",
      "model_name": "LayoutModel",
      "state": {
       "_model_module_version": "~2.1.4",
       "_view_module_version": "~2.1.4"
      }
     },
     "2dc687c2a83c4240837d47593538a005": {
      "model_module": "jupyter-js-widgets",
      "model_module_version": "~2.1.4",
      "model_name": "LayoutModel",
      "state": {
       "_model_module_version": "~2.1.4",
       "_view_module_version": "~2.1.4"
      }
     },
     "2e2f80322fb34f3a802e7074d13ab911": {
      "model_module": "jupyter-js-widgets",
      "model_module_version": "~2.1.4",
      "model_name": "OutputModel",
      "state": {
       "_dom_classes": [],
       "_model_module": "jupyter-js-widgets",
       "_model_module_version": "~2.1.4",
       "_view_module": "jupyter-js-widgets",
       "_view_module_version": "~2.1.4",
       "layout": "IPY_MODEL_86336087f0e34249b1a87e8110b19749",
       "msg_throttle": 1
      }
     },
     "2ecdbfb1f5d7493f91271762fe3d9f77": {
      "model_module": "jupyter-js-widgets",
      "model_module_version": "~2.1.4",
      "model_name": "LayoutModel",
      "state": {
       "_model_module_version": "~2.1.4",
       "_view_module_version": "~2.1.4"
      }
     },
     "301f303bfa29406d94142bb058b4cec7": {
      "model_module": "jupyter-js-widgets",
      "model_module_version": "~2.1.4",
      "model_name": "LayoutModel",
      "state": {
       "_model_module_version": "~2.1.4",
       "_view_module_version": "~2.1.4"
      }
     },
     "313697f16de44d659d7740e91fba5bc9": {
      "model_module": "jupyter-js-widgets",
      "model_module_version": "~2.1.4",
      "model_name": "LayoutModel",
      "state": {
       "_model_module_version": "~2.1.4",
       "_view_module_version": "~2.1.4"
      }
     },
     "339ae53adb2e4aea846be976ed58d1b8": {
      "model_module": "jupyter-js-widgets",
      "model_module_version": "~2.1.4",
      "model_name": "LayoutModel",
      "state": {
       "_model_module_version": "~2.1.4",
       "_view_module_version": "~2.1.4"
      }
     },
     "3465b557358e4ec387bf11779a482edb": {
      "model_module": "jupyter-js-widgets",
      "model_module_version": "~2.1.4",
      "model_name": "FloatSliderModel",
      "state": {
       "_model_module_version": "~2.1.4",
       "_view_module_version": "~2.1.4",
       "description": "noise_magnitude",
       "layout": "IPY_MODEL_fa005402d87b4931a900e525c1b1f7b3",
       "max": 1,
       "step": 0.05
      }
     },
     "34a8f19fe06142d4bbce9835dd31f5bb": {
      "model_module": "jupyter-js-widgets",
      "model_module_version": "~2.1.4",
      "model_name": "LayoutModel",
      "state": {
       "_model_module_version": "~2.1.4",
       "_view_module_version": "~2.1.4"
      }
     },
     "365cb17b81264f878173573e1b9c758f": {
      "model_module": "jupyter-js-widgets",
      "model_module_version": "~2.1.4",
      "model_name": "LayoutModel",
      "state": {
       "_model_module_version": "~2.1.4",
       "_view_module_version": "~2.1.4"
      }
     },
     "37246c78f3b9455888271be628647b96": {
      "model_module": "jupyter-js-widgets",
      "model_module_version": "~2.1.4",
      "model_name": "OutputModel",
      "state": {
       "_dom_classes": [],
       "_model_module": "jupyter-js-widgets",
       "_model_module_version": "~2.1.4",
       "_view_module": "jupyter-js-widgets",
       "_view_module_version": "~2.1.4",
       "layout": "IPY_MODEL_34a8f19fe06142d4bbce9835dd31f5bb",
       "msg_throttle": 1
      }
     },
     "3771f7ec1bf64f8e9f09ee293136e7fc": {
      "model_module": "jupyter-js-widgets",
      "model_module_version": "~2.1.4",
      "model_name": "LayoutModel",
      "state": {
       "_model_module_version": "~2.1.4",
       "_view_module_version": "~2.1.4"
      }
     },
     "378944bf8be8412e818e9e471bfb5c8e": {
      "model_module": "jupyter-js-widgets",
      "model_module_version": "~2.1.4",
      "model_name": "FloatSliderModel",
      "state": {
       "_model_module_version": "~2.1.4",
       "_view_module_version": "~2.1.4",
       "description": "beta_1",
       "layout": "IPY_MODEL_2376170f51404020998cea3e4fd8ca4f",
       "max": 5,
       "step": 0.1,
       "value": 1.3
      }
     },
     "388d125ed04543288125584f04e81678": {
      "model_module": "jupyter-js-widgets",
      "model_module_version": "~2.1.4",
      "model_name": "LayoutModel",
      "state": {
       "_model_module_version": "~2.1.4",
       "_view_module_version": "~2.1.4"
      }
     },
     "3b3a7875e68b452fa00860ee778e5638": {
      "model_module": "jupyter-js-widgets",
      "model_module_version": "~2.1.4",
      "model_name": "FloatSliderModel",
      "state": {
       "_model_module_version": "~2.1.4",
       "_view_module_version": "~2.1.4",
       "description": "beta_0",
       "layout": "IPY_MODEL_339ae53adb2e4aea846be976ed58d1b8",
       "max": 2,
       "min": -2,
       "step": 0.1
      }
     },
     "3ca692a8177248d28e84616d42dd74ca": {
      "model_module": "jupyter-js-widgets",
      "model_module_version": "~2.1.4",
      "model_name": "LayoutModel",
      "state": {
       "_model_module_version": "~2.1.4",
       "_view_module_version": "~2.1.4"
      }
     },
     "3cff44aa73984eb4bacde4986b5333af": {
      "model_module": "jupyter-js-widgets",
      "model_module_version": "~2.1.4",
      "model_name": "VBoxModel",
      "state": {
       "_dom_classes": [
        "widget-interact"
       ],
       "_model_module_version": "~2.1.4",
       "_view_module_version": "~2.1.4",
       "children": [
        "IPY_MODEL_91535ad74d4a4b9996ea01ecc4249f4a",
        "IPY_MODEL_df3b6a50c62a496fb896b9aa0eb9742c",
        "IPY_MODEL_9fd24fe7979f41b4a07adccd0715a123",
        "IPY_MODEL_80f52dc30a4841ecb6c1907cd6344b69"
       ],
       "layout": "IPY_MODEL_bb47356cfe344c8281aff54d87e0c669"
      }
     },
     "3d502b37de0d4e6197d3fd1ea6146c9c": {
      "model_module": "jupyter-js-widgets",
      "model_module_version": "~2.1.4",
      "model_name": "FloatSliderModel",
      "state": {
       "_model_module_version": "~2.1.4",
       "_view_module_version": "~2.1.4",
       "description": "noise_magnitude",
       "layout": "IPY_MODEL_8ead2e024b354376b0144c98434cd87a",
       "max": 1,
       "step": 0.05
      }
     },
     "3dc396a786e9498fafb360f0cf36c47a": {
      "model_module": "jupyter-js-widgets",
      "model_module_version": "~2.1.4",
      "model_name": "FloatSliderModel",
      "state": {
       "_model_module_version": "~2.1.4",
       "_view_module_version": "~2.1.4",
       "description": "noise_magnitude",
       "layout": "IPY_MODEL_d39e5803119f4a4fae7c6b701644f7ac",
       "max": 1,
       "step": 0.05
      }
     },
     "44af2c20b69d425480e6fa1199368568": {
      "model_module": "jupyter-js-widgets",
      "model_module_version": "~2.1.4",
      "model_name": "FloatSliderModel",
      "state": {
       "_model_module_version": "~2.1.4",
       "_view_module_version": "~2.1.4",
       "description": "beta_1",
       "layout": "IPY_MODEL_680f1c40d0a245628a52be7552a3b84d",
       "max": 5,
       "step": 0.1,
       "value": 2.3
      }
     },
     "465cbbb0eed14fd08063eba8ce0e030a": {
      "model_module": "jupyter-js-widgets",
      "model_module_version": "~2.1.4",
      "model_name": "LayoutModel",
      "state": {
       "_model_module_version": "~2.1.4",
       "_view_module_version": "~2.1.4"
      }
     },
     "4828047d6a0b4093a1343b0c4a57b9f7": {
      "model_module": "jupyter-js-widgets",
      "model_module_version": "~2.1.4",
      "model_name": "OutputModel",
      "state": {
       "_dom_classes": [],
       "_model_module": "jupyter-js-widgets",
       "_model_module_version": "~2.1.4",
       "_view_module": "jupyter-js-widgets",
       "_view_module_version": "~2.1.4",
       "layout": "IPY_MODEL_9dd321329f5c48f2aa3f0e19af163b88",
       "msg_throttle": 1
      }
     },
     "49190e40609e491bb32a2bcec5db9dfc": {
      "model_module": "jupyter-js-widgets",
      "model_module_version": "~2.1.4",
      "model_name": "LayoutModel",
      "state": {
       "_model_module_version": "~2.1.4",
       "_view_module_version": "~2.1.4"
      }
     },
     "4b6cf11e570144d7b56a9309cde8f0f2": {
      "model_module": "jupyter-js-widgets",
      "model_module_version": "~2.1.4",
      "model_name": "FloatSliderModel",
      "state": {
       "_model_module_version": "~2.1.4",
       "_view_module_version": "~2.1.4",
       "description": "beta_0",
       "layout": "IPY_MODEL_a31f7b3fdb684af1a86e81344681a1a0",
       "max": 2,
       "min": -2,
       "step": 0.1
      }
     },
     "4b7725fada4746c2a137abc24913ff69": {
      "model_module": "jupyter-js-widgets",
      "model_module_version": "~2.1.4",
      "model_name": "OutputModel",
      "state": {
       "_dom_classes": [],
       "_model_module": "jupyter-js-widgets",
       "_model_module_version": "~2.1.4",
       "_view_module": "jupyter-js-widgets",
       "_view_module_version": "~2.1.4",
       "layout": "IPY_MODEL_8f254f937a3d4e1d9b327c777edab451",
       "msg_throttle": 1
      }
     },
     "4b8c39567d424bc6a4a613ea8f12d074": {
      "model_module": "jupyter-js-widgets",
      "model_module_version": "~2.1.4",
      "model_name": "FloatSliderModel",
      "state": {
       "_model_module_version": "~2.1.4",
       "_view_module_version": "~2.1.4",
       "description": "beta_0",
       "layout": "IPY_MODEL_b4c6abbb54034969a2f3132dd85b9784",
       "max": 2,
       "min": -2,
       "step": 0.1
      }
     },
     "4c4dd82e811a452ca90efeeef83d8bff": {
      "model_module": "jupyter-js-widgets",
      "model_module_version": "~2.1.4",
      "model_name": "LayoutModel",
      "state": {
       "_model_module_version": "~2.1.4",
       "_view_module_version": "~2.1.4"
      }
     },
     "4ce69c1f466846f3867847677d4ad3d1": {
      "model_module": "jupyter-js-widgets",
      "model_module_version": "~2.1.4",
      "model_name": "OutputModel",
      "state": {
       "_dom_classes": [],
       "_model_module": "jupyter-js-widgets",
       "_model_module_version": "~2.1.4",
       "_view_module": "jupyter-js-widgets",
       "_view_module_version": "~2.1.4",
       "layout": "IPY_MODEL_a4367fecba2d4a66afee3382ad6b6207",
       "msg_throttle": 1
      }
     },
     "4d00c4d519a64914b2147b209a1a1bae": {
      "model_module": "jupyter-js-widgets",
      "model_module_version": "~2.1.4",
      "model_name": "VBoxModel",
      "state": {
       "_dom_classes": [
        "widget-interact"
       ],
       "_model_module_version": "~2.1.4",
       "_view_module_version": "~2.1.4",
       "children": [
        "IPY_MODEL_0c9a429b40b84ff89f7e18188078d9ee",
        "IPY_MODEL_cf2ca580cad6470abc446f8a2284595e",
        "IPY_MODEL_95612b6ecbc748f087ae10c48edc47a8",
        "IPY_MODEL_37246c78f3b9455888271be628647b96"
       ],
       "layout": "IPY_MODEL_dcd052a787554f58a786c41ec21842dc"
      }
     },
     "4d96adda4e2148ee9feca20488a7e8f7": {
      "model_module": "jupyter-js-widgets",
      "model_module_version": "~2.1.4",
      "model_name": "LayoutModel",
      "state": {
       "_model_module_version": "~2.1.4",
       "_view_module_version": "~2.1.4"
      }
     },
     "4fefca39315d480980383696eb55818e": {
      "model_module": "jupyter-js-widgets",
      "model_module_version": "~2.1.4",
      "model_name": "OutputModel",
      "state": {
       "_dom_classes": [],
       "_model_module": "jupyter-js-widgets",
       "_model_module_version": "~2.1.4",
       "_view_module": "jupyter-js-widgets",
       "_view_module_version": "~2.1.4",
       "layout": "IPY_MODEL_3771f7ec1bf64f8e9f09ee293136e7fc",
       "msg_throttle": 1
      }
     },
     "50fd344ff2a84fdfa6a5234d42cad239": {
      "model_module": "jupyter-js-widgets",
      "model_module_version": "~2.1.4",
      "model_name": "LayoutModel",
      "state": {
       "_model_module_version": "~2.1.4",
       "_view_module_version": "~2.1.4"
      }
     },
     "510d4a944c334a3ebd8c182eaabf8e77": {
      "model_module": "jupyter-js-widgets",
      "model_module_version": "~2.1.4",
      "model_name": "LayoutModel",
      "state": {
       "_model_module_version": "~2.1.4",
       "_view_module_version": "~2.1.4"
      }
     },
     "5124f5645c664b96a044d02f0ea650f1": {
      "model_module": "jupyter-js-widgets",
      "model_module_version": "~2.1.4",
      "model_name": "LayoutModel",
      "state": {
       "_model_module_version": "~2.1.4",
       "_view_module_version": "~2.1.4"
      }
     },
     "515c7648fa464e6d936bc134c76b57d6": {
      "model_module": "jupyter-js-widgets",
      "model_module_version": "~2.1.4",
      "model_name": "VBoxModel",
      "state": {
       "_dom_classes": [
        "widget-interact"
       ],
       "_model_module_version": "~2.1.4",
       "_view_module_version": "~2.1.4",
       "children": [
        "IPY_MODEL_019beb3db3ab4ac6adf713105962647c",
        "IPY_MODEL_c00dcae543c6459e8fd54f33a1491f1c",
        "IPY_MODEL_5ec4ff2f048f4cc89cafb19e9ebc937d",
        "IPY_MODEL_bba46b8665b445e1a1497d987505f53a"
       ],
       "layout": "IPY_MODEL_313697f16de44d659d7740e91fba5bc9"
      }
     },
     "51e2b11306d448048bd99a9838b21c9a": {
      "model_module": "jupyter-js-widgets",
      "model_module_version": "~2.1.4",
      "model_name": "FloatSliderModel",
      "state": {
       "_model_module_version": "~2.1.4",
       "_view_module_version": "~2.1.4",
       "description": "beta_1",
       "layout": "IPY_MODEL_72118efa1b2d49a492f7dc5b50c811b8",
       "max": 5,
       "step": 0.1,
       "value": 2
      }
     },
     "52478649fe7143748ee5533ba067d971": {
      "model_module": "jupyter-js-widgets",
      "model_module_version": "~2.1.4",
      "model_name": "LayoutModel",
      "state": {
       "_model_module_version": "~2.1.4",
       "_view_module_version": "~2.1.4"
      }
     },
     "53edcf43bbce4f27b9793ddfec10b719": {
      "model_module": "jupyter-js-widgets",
      "model_module_version": "~2.1.4",
      "model_name": "FloatSliderModel",
      "state": {
       "_model_module_version": "~2.1.4",
       "_view_module_version": "~2.1.4",
       "description": "beta_1",
       "layout": "IPY_MODEL_4c4dd82e811a452ca90efeeef83d8bff",
       "max": 5,
       "step": 0.1,
       "value": 2
      }
     },
     "548b2ae9221d4711b62a7086231d7579": {
      "model_module": "jupyter-js-widgets",
      "model_module_version": "~2.1.4",
      "model_name": "LayoutModel",
      "state": {
       "_model_module_version": "~2.1.4",
       "_view_module_version": "~2.1.4"
      }
     },
     "5502cc6506e54560a0b7384ce0012b3e": {
      "model_module": "jupyter-js-widgets",
      "model_module_version": "~2.1.4",
      "model_name": "FloatSliderModel",
      "state": {
       "_model_module_version": "~2.1.4",
       "_view_module_version": "~2.1.4",
       "description": "noise_magnitude",
       "layout": "IPY_MODEL_5ae0ca0c1d2243cd91df1b05b55ad301",
       "max": 1,
       "step": 0.05
      }
     },
     "5ae0ca0c1d2243cd91df1b05b55ad301": {
      "model_module": "jupyter-js-widgets",
      "model_module_version": "~2.1.4",
      "model_name": "LayoutModel",
      "state": {
       "_model_module_version": "~2.1.4",
       "_view_module_version": "~2.1.4"
      }
     },
     "5b0b1678ce8442aa8a0c4d09188d5981": {
      "model_module": "jupyter-js-widgets",
      "model_module_version": "~2.1.4",
      "model_name": "LayoutModel",
      "state": {
       "_model_module_version": "~2.1.4",
       "_view_module_version": "~2.1.4"
      }
     },
     "5b61fdb9bc9f45acbcb1d0edc91fca93": {
      "model_module": "jupyter-js-widgets",
      "model_module_version": "~2.1.4",
      "model_name": "LayoutModel",
      "state": {
       "_model_module_version": "~2.1.4",
       "_view_module_version": "~2.1.4"
      }
     },
     "5c828c0e45764970b93609baddad9c14": {
      "model_module": "jupyter-js-widgets",
      "model_module_version": "~2.1.4",
      "model_name": "LayoutModel",
      "state": {
       "_model_module_version": "~2.1.4",
       "_view_module_version": "~2.1.4"
      }
     },
     "5cf63ce47ef645abadce3d363ba28080": {
      "model_module": "jupyter-js-widgets",
      "model_module_version": "~2.1.4",
      "model_name": "OutputModel",
      "state": {
       "_dom_classes": [],
       "_model_module": "jupyter-js-widgets",
       "_model_module_version": "~2.1.4",
       "_view_module": "jupyter-js-widgets",
       "_view_module_version": "~2.1.4",
       "layout": "IPY_MODEL_761de68b7b604e35b744e8ae89444fda",
       "msg_throttle": 1
      }
     },
     "5ec4ff2f048f4cc89cafb19e9ebc937d": {
      "model_module": "jupyter-js-widgets",
      "model_module_version": "~2.1.4",
      "model_name": "FloatSliderModel",
      "state": {
       "_model_module_version": "~2.1.4",
       "_view_module_version": "~2.1.4",
       "description": "noise_magnitude",
       "layout": "IPY_MODEL_66753eaacff04297a77a3f92e16a3017",
       "max": 1,
       "step": 0.05
      }
     },
     "5f3bc5229f3440298484d9f8861651d1": {
      "model_module": "jupyter-js-widgets",
      "model_module_version": "~2.1.4",
      "model_name": "LayoutModel",
      "state": {
       "_model_module_version": "~2.1.4",
       "_view_module_version": "~2.1.4"
      }
     },
     "60083cbd90754236808b616cd072347a": {
      "model_module": "jupyter-js-widgets",
      "model_module_version": "~2.1.4",
      "model_name": "LayoutModel",
      "state": {
       "_model_module_version": "~2.1.4",
       "_view_module_version": "~2.1.4"
      }
     },
     "6471864c4d7c47cd99f08ef83724bda9": {
      "model_module": "jupyter-js-widgets",
      "model_module_version": "~2.1.4",
      "model_name": "FloatSliderModel",
      "state": {
       "_model_module_version": "~2.1.4",
       "_view_module_version": "~2.1.4",
       "description": "noise_magnitude",
       "layout": "IPY_MODEL_217818bf3bb8420a821dab335003a214",
       "max": 1,
       "step": 0.05
      }
     },
     "64a7991396e34a4986a3333674224cf4": {
      "model_module": "jupyter-js-widgets",
      "model_module_version": "~2.1.4",
      "model_name": "FloatSliderModel",
      "state": {
       "_model_module_version": "~2.1.4",
       "_view_module_version": "~2.1.4",
       "description": "beta_1",
       "layout": "IPY_MODEL_09bc8e68b7eb4ec38cfdec45c2d2b6f5",
       "max": 5,
       "step": 0.1,
       "value": 2
      }
     },
     "66753eaacff04297a77a3f92e16a3017": {
      "model_module": "jupyter-js-widgets",
      "model_module_version": "~2.1.4",
      "model_name": "LayoutModel",
      "state": {
       "_model_module_version": "~2.1.4",
       "_view_module_version": "~2.1.4"
      }
     },
     "670a727a9e5e4f4cbb446fdf4879091c": {
      "model_module": "jupyter-js-widgets",
      "model_module_version": "~2.1.4",
      "model_name": "LayoutModel",
      "state": {
       "_model_module_version": "~2.1.4",
       "_view_module_version": "~2.1.4"
      }
     },
     "6713ac8b0a0541cb994e84f2db320742": {
      "model_module": "jupyter-js-widgets",
      "model_module_version": "~2.1.4",
      "model_name": "LayoutModel",
      "state": {
       "_model_module_version": "~2.1.4",
       "_view_module_version": "~2.1.4"
      }
     },
     "6759dd5ea97845a2a230e4a62b82c2c7": {
      "model_module": "jupyter-js-widgets",
      "model_module_version": "~2.1.4",
      "model_name": "FloatSliderModel",
      "state": {
       "_model_module_version": "~2.1.4",
       "_view_module_version": "~2.1.4",
       "description": "beta_0",
       "layout": "IPY_MODEL_960621eaf060410c9eaed240230aaa92",
       "max": 2,
       "min": -2,
       "step": 0.1
      }
     },
     "67bf24fa559547dc992a58d204c29f58": {
      "model_module": "jupyter-js-widgets",
      "model_module_version": "~2.1.4",
      "model_name": "FloatSliderModel",
      "state": {
       "_model_module_version": "~2.1.4",
       "_view_module_version": "~2.1.4",
       "description": "beta_0",
       "layout": "IPY_MODEL_8876132da8884ba2a04c0b6440f4e274",
       "max": 2,
       "min": -2,
       "step": 0.1,
       "value": 1.1
      }
     },
     "67c7c9d9a065411f85ca1cb0396afbf1": {
      "model_module": "jupyter-js-widgets",
      "model_module_version": "~2.1.4",
      "model_name": "OutputModel",
      "state": {
       "_dom_classes": [],
       "_model_module": "jupyter-js-widgets",
       "_model_module_version": "~2.1.4",
       "_view_module": "jupyter-js-widgets",
       "_view_module_version": "~2.1.4",
       "layout": "IPY_MODEL_22f1481d317e4d6f9ce47fb21fec8232",
       "msg_throttle": 1
      }
     },
     "680f1c40d0a245628a52be7552a3b84d": {
      "model_module": "jupyter-js-widgets",
      "model_module_version": "~2.1.4",
      "model_name": "LayoutModel",
      "state": {
       "_model_module_version": "~2.1.4",
       "_view_module_version": "~2.1.4"
      }
     },
     "686f052b6d9e45fcbabf91bd1a6aa69d": {
      "model_module": "jupyter-js-widgets",
      "model_module_version": "~2.1.4",
      "model_name": "LayoutModel",
      "state": {
       "_model_module_version": "~2.1.4",
       "_view_module_version": "~2.1.4"
      }
     },
     "6958bbfcbcaa4cab903ad31a056ba48d": {
      "model_module": "jupyter-js-widgets",
      "model_module_version": "~2.1.4",
      "model_name": "VBoxModel",
      "state": {
       "_dom_classes": [
        "widget-interact"
       ],
       "_model_module_version": "~2.1.4",
       "_view_module_version": "~2.1.4",
       "children": [
        "IPY_MODEL_a97d819cb58a456e96000934893fe09f",
        "IPY_MODEL_07eaee945fb54029ab7936d684ab5b04",
        "IPY_MODEL_3dc396a786e9498fafb360f0cf36c47a",
        "IPY_MODEL_4828047d6a0b4093a1343b0c4a57b9f7"
       ],
       "layout": "IPY_MODEL_df61445739424f619dfc85a72aa9f9d6"
      }
     },
     "6a2175d7e4524fbda4fa9feab1d9d086": {
      "model_module": "jupyter-js-widgets",
      "model_module_version": "~2.1.4",
      "model_name": "LayoutModel",
      "state": {
       "_model_module_version": "~2.1.4",
       "_view_module_version": "~2.1.4"
      }
     },
     "6b517c1b36c54aaa9f29c741edb2e8a3": {
      "model_module": "jupyter-js-widgets",
      "model_module_version": "~2.1.4",
      "model_name": "FloatSliderModel",
      "state": {
       "_model_module_version": "~2.1.4",
       "_view_module_version": "~2.1.4",
       "description": "beta_1",
       "layout": "IPY_MODEL_e3997e0fd4324b218de38c4707ba3d35",
       "max": 5,
       "step": 0.1,
       "value": 2
      }
     },
     "6c0e89d4344144b2bb44977c9e2ca6b2": {
      "model_module": "jupyter-js-widgets",
      "model_module_version": "~2.1.4",
      "model_name": "FloatSliderModel",
      "state": {
       "_model_module_version": "~2.1.4",
       "_view_module_version": "~2.1.4",
       "description": "beta_0",
       "layout": "IPY_MODEL_874b492189024e4bb78b3c43d2c024d2",
       "max": 2,
       "min": -2,
       "step": 0.1
      }
     },
     "6d64cda103454c939b93b7dc73e40e6b": {
      "model_module": "jupyter-js-widgets",
      "model_module_version": "~2.1.4",
      "model_name": "FloatSliderModel",
      "state": {
       "_model_module_version": "~2.1.4",
       "_view_module_version": "~2.1.4",
       "description": "noise_magnitude",
       "layout": "IPY_MODEL_e0791e2240aa40d39ffce7c52e2997b3",
       "max": 1,
       "step": 0.05
      }
     },
     "72118efa1b2d49a492f7dc5b50c811b8": {
      "model_module": "jupyter-js-widgets",
      "model_module_version": "~2.1.4",
      "model_name": "LayoutModel",
      "state": {
       "_model_module_version": "~2.1.4",
       "_view_module_version": "~2.1.4"
      }
     },
     "7435aaaebeaf4e3fb8cd1cb3f34f5b9f": {
      "model_module": "jupyter-js-widgets",
      "model_module_version": "~2.1.4",
      "model_name": "LayoutModel",
      "state": {
       "_model_module_version": "~2.1.4",
       "_view_module_version": "~2.1.4"
      }
     },
     "75891ee7515d44409987f5e641a13372": {
      "model_module": "jupyter-js-widgets",
      "model_module_version": "~2.1.4",
      "model_name": "FloatSliderModel",
      "state": {
       "_model_module_version": "~2.1.4",
       "_view_module_version": "~2.1.4",
       "description": "beta_0",
       "layout": "IPY_MODEL_8faa8841c1e24e969b50122e6e605d63",
       "max": 2,
       "min": -2,
       "step": 0.1
      }
     },
     "761de68b7b604e35b744e8ae89444fda": {
      "model_module": "jupyter-js-widgets",
      "model_module_version": "~2.1.4",
      "model_name": "LayoutModel",
      "state": {
       "_model_module_version": "~2.1.4",
       "_view_module_version": "~2.1.4"
      }
     },
     "76fbebcc033f429a84c0c4f624d7ccb7": {
      "model_module": "jupyter-js-widgets",
      "model_module_version": "~2.1.4",
      "model_name": "LayoutModel",
      "state": {
       "_model_module_version": "~2.1.4",
       "_view_module_version": "~2.1.4"
      }
     },
     "772186859d4e42bab6a3fdbe033fc315": {
      "model_module": "jupyter-js-widgets",
      "model_module_version": "~2.1.4",
      "model_name": "OutputModel",
      "state": {
       "_dom_classes": [],
       "_model_module": "jupyter-js-widgets",
       "_model_module_version": "~2.1.4",
       "_view_module": "jupyter-js-widgets",
       "_view_module_version": "~2.1.4",
       "layout": "IPY_MODEL_686f052b6d9e45fcbabf91bd1a6aa69d",
       "msg_throttle": 1
      }
     },
     "77ae147c33024b8f96b9c338e2248fef": {
      "model_module": "jupyter-js-widgets",
      "model_module_version": "~2.1.4",
      "model_name": "OutputModel",
      "state": {
       "_dom_classes": [],
       "_model_module": "jupyter-js-widgets",
       "_model_module_version": "~2.1.4",
       "_view_module": "jupyter-js-widgets",
       "_view_module_version": "~2.1.4",
       "layout": "IPY_MODEL_2ecdbfb1f5d7493f91271762fe3d9f77",
       "msg_throttle": 1
      }
     },
     "798259efd91c453abf1cfbea2298bc43": {
      "model_module": "jupyter-js-widgets",
      "model_module_version": "~2.1.4",
      "model_name": "FloatSliderModel",
      "state": {
       "_model_module_version": "~2.1.4",
       "_view_module_version": "~2.1.4",
       "description": "noise_magnitude",
       "layout": "IPY_MODEL_510d4a944c334a3ebd8c182eaabf8e77",
       "max": 1,
       "step": 0.05
      }
     },
     "7b1509ba5da84fe8b31a3a7431a1c5e4": {
      "model_module": "jupyter-js-widgets",
      "model_module_version": "~2.1.4",
      "model_name": "LayoutModel",
      "state": {
       "_model_module_version": "~2.1.4",
       "_view_module_version": "~2.1.4"
      }
     },
     "7d92688fa84844a98c6bd6a625629f3b": {
      "model_module": "jupyter-js-widgets",
      "model_module_version": "~2.1.4",
      "model_name": "VBoxModel",
      "state": {
       "_dom_classes": [
        "widget-interact"
       ],
       "_model_module_version": "~2.1.4",
       "_view_module_version": "~2.1.4",
       "children": [
        "IPY_MODEL_84d2c9aca61d4759afd04f9e2213e658",
        "IPY_MODEL_90ce52df2f5945f18c103c0679599055",
        "IPY_MODEL_1cf441f7e7004de4afd9d353b97141a7",
        "IPY_MODEL_b8212e52071e4d439faa3c7ef82cd808"
       ],
       "layout": "IPY_MODEL_1beb72c06d404363ab863e96080c06e9"
      }
     },
     "80f52dc30a4841ecb6c1907cd6344b69": {
      "model_module": "jupyter-js-widgets",
      "model_module_version": "~2.1.4",
      "model_name": "OutputModel",
      "state": {
       "_dom_classes": [],
       "_model_module": "jupyter-js-widgets",
       "_model_module_version": "~2.1.4",
       "_view_module": "jupyter-js-widgets",
       "_view_module_version": "~2.1.4",
       "layout": "IPY_MODEL_465cbbb0eed14fd08063eba8ce0e030a",
       "msg_throttle": 1
      }
     },
     "81b08bbe688745779403ee5180e55fa7": {
      "model_module": "jupyter-js-widgets",
      "model_module_version": "~2.1.4",
      "model_name": "LayoutModel",
      "state": {
       "_model_module_version": "~2.1.4",
       "_view_module_version": "~2.1.4"
      }
     },
     "84d2c9aca61d4759afd04f9e2213e658": {
      "model_module": "jupyter-js-widgets",
      "model_module_version": "~2.1.4",
      "model_name": "FloatSliderModel",
      "state": {
       "_model_module_version": "~2.1.4",
       "_view_module_version": "~2.1.4",
       "description": "beta_0",
       "layout": "IPY_MODEL_5b0b1678ce8442aa8a0c4d09188d5981",
       "max": 2,
       "min": -2,
       "step": 0.1,
       "value": 0.6
      }
     },
     "851d09de70824d78b55ca7c98aa8cf03": {
      "model_module": "jupyter-js-widgets",
      "model_module_version": "~2.1.4",
      "model_name": "LayoutModel",
      "state": {
       "_model_module_version": "~2.1.4",
       "_view_module_version": "~2.1.4"
      }
     },
     "853ca0349e7f439f82ee5e307150dbd0": {
      "model_module": "jupyter-js-widgets",
      "model_module_version": "~2.1.4",
      "model_name": "FloatSliderModel",
      "state": {
       "_model_module_version": "~2.1.4",
       "_view_module_version": "~2.1.4",
       "description": "noise_magnitude",
       "layout": "IPY_MODEL_2c26d6c610c04c77b635ff76d920c62e",
       "max": 1,
       "step": 0.05
      }
     },
     "85c1d811f83f4959bbf96e7e9e3f4f4d": {
      "model_module": "jupyter-js-widgets",
      "model_module_version": "~2.1.4",
      "model_name": "FloatSliderModel",
      "state": {
       "_model_module_version": "~2.1.4",
       "_view_module_version": "~2.1.4",
       "description": "beta_1",
       "layout": "IPY_MODEL_a3f354bf636147b1a264536520d90cac",
       "max": 5,
       "step": 0.1,
       "value": 2.2
      }
     },
     "86336087f0e34249b1a87e8110b19749": {
      "model_module": "jupyter-js-widgets",
      "model_module_version": "~2.1.4",
      "model_name": "LayoutModel",
      "state": {
       "_model_module_version": "~2.1.4",
       "_view_module_version": "~2.1.4"
      }
     },
     "874b492189024e4bb78b3c43d2c024d2": {
      "model_module": "jupyter-js-widgets",
      "model_module_version": "~2.1.4",
      "model_name": "LayoutModel",
      "state": {
       "_model_module_version": "~2.1.4",
       "_view_module_version": "~2.1.4"
      }
     },
     "8876132da8884ba2a04c0b6440f4e274": {
      "model_module": "jupyter-js-widgets",
      "model_module_version": "~2.1.4",
      "model_name": "LayoutModel",
      "state": {
       "_model_module_version": "~2.1.4",
       "_view_module_version": "~2.1.4"
      }
     },
     "8ead2e024b354376b0144c98434cd87a": {
      "model_module": "jupyter-js-widgets",
      "model_module_version": "~2.1.4",
      "model_name": "LayoutModel",
      "state": {
       "_model_module_version": "~2.1.4",
       "_view_module_version": "~2.1.4"
      }
     },
     "8f254f937a3d4e1d9b327c777edab451": {
      "model_module": "jupyter-js-widgets",
      "model_module_version": "~2.1.4",
      "model_name": "LayoutModel",
      "state": {
       "_model_module_version": "~2.1.4",
       "_view_module_version": "~2.1.4"
      }
     },
     "8faa8841c1e24e969b50122e6e605d63": {
      "model_module": "jupyter-js-widgets",
      "model_module_version": "~2.1.4",
      "model_name": "LayoutModel",
      "state": {
       "_model_module_version": "~2.1.4",
       "_view_module_version": "~2.1.4"
      }
     },
     "8fcbd6faa5c44e58bb0ab4479fe6891a": {
      "model_module": "jupyter-js-widgets",
      "model_module_version": "~2.1.4",
      "model_name": "LayoutModel",
      "state": {
       "_model_module_version": "~2.1.4",
       "_view_module_version": "~2.1.4"
      }
     },
     "902596f1f9c1475885296cf9042d7951": {
      "model_module": "jupyter-js-widgets",
      "model_module_version": "~2.1.4",
      "model_name": "VBoxModel",
      "state": {
       "_dom_classes": [
        "widget-interact"
       ],
       "_model_module_version": "~2.1.4",
       "_view_module_version": "~2.1.4",
       "children": [
        "IPY_MODEL_cb6f551212614db287918afefe10a6e9",
        "IPY_MODEL_ac358c21cf2a416caefbf61eda9b2cdb",
        "IPY_MODEL_aaeabe2cba6c4e25939d39bc7fbf6e9f",
        "IPY_MODEL_4ce69c1f466846f3867847677d4ad3d1"
       ],
       "layout": "IPY_MODEL_bbf550e0a1d44192aa033b2d7983911c"
      }
     },
     "90ce52df2f5945f18c103c0679599055": {
      "model_module": "jupyter-js-widgets",
      "model_module_version": "~2.1.4",
      "model_name": "FloatSliderModel",
      "state": {
       "_model_module_version": "~2.1.4",
       "_view_module_version": "~2.1.4",
       "description": "beta_1",
       "layout": "IPY_MODEL_d6104c2ab5ab420c97264d21bf0d51e5",
       "max": 5,
       "step": 0.1,
       "value": 1.4
      }
     },
     "91535ad74d4a4b9996ea01ecc4249f4a": {
      "model_module": "jupyter-js-widgets",
      "model_module_version": "~2.1.4",
      "model_name": "FloatSliderModel",
      "state": {
       "_model_module_version": "~2.1.4",
       "_view_module_version": "~2.1.4",
       "description": "beta_0",
       "layout": "IPY_MODEL_d2db6d2e1de94621a870064ae4bcd12e",
       "max": 2,
       "min": -2,
       "step": 0.1
      }
     },
     "94385151d29e49899c0fc305f1d677d7": {
      "model_module": "jupyter-js-widgets",
      "model_module_version": "~2.1.4",
      "model_name": "FloatSliderModel",
      "state": {
       "_model_module_version": "~2.1.4",
       "_view_module_version": "~2.1.4",
       "description": "beta_1",
       "layout": "IPY_MODEL_7435aaaebeaf4e3fb8cd1cb3f34f5b9f",
       "max": 5,
       "step": 0.1,
       "value": 2
      }
     },
     "95612b6ecbc748f087ae10c48edc47a8": {
      "model_module": "jupyter-js-widgets",
      "model_module_version": "~2.1.4",
      "model_name": "FloatSliderModel",
      "state": {
       "_model_module_version": "~2.1.4",
       "_view_module_version": "~2.1.4",
       "description": "noise_magnitude",
       "layout": "IPY_MODEL_200537d7ce904d18b500f6fb2936515f",
       "max": 1,
       "step": 0.05
      }
     },
     "9591ffbba08e4ba397156843db405279": {
      "model_module": "jupyter-js-widgets",
      "model_module_version": "~2.1.4",
      "model_name": "FloatSliderModel",
      "state": {
       "_model_module_version": "~2.1.4",
       "_view_module_version": "~2.1.4",
       "description": "beta_0",
       "layout": "IPY_MODEL_6a2175d7e4524fbda4fa9feab1d9d086",
       "max": 2,
       "min": -2,
       "step": 0.1,
       "value": 0.2
      }
     },
     "960621eaf060410c9eaed240230aaa92": {
      "model_module": "jupyter-js-widgets",
      "model_module_version": "~2.1.4",
      "model_name": "LayoutModel",
      "state": {
       "_model_module_version": "~2.1.4",
       "_view_module_version": "~2.1.4"
      }
     },
     "9645cb7e3c4941d4bc5fb67e18d2ca02": {
      "model_module": "jupyter-js-widgets",
      "model_module_version": "~2.1.4",
      "model_name": "LayoutModel",
      "state": {
       "_model_module_version": "~2.1.4",
       "_view_module_version": "~2.1.4"
      }
     },
     "9ab6c863789840f89852e46e72e6273c": {
      "model_module": "jupyter-js-widgets",
      "model_module_version": "~2.1.4",
      "model_name": "VBoxModel",
      "state": {
       "_dom_classes": [
        "widget-interact"
       ],
       "_model_module_version": "~2.1.4",
       "_view_module_version": "~2.1.4",
       "children": [
        "IPY_MODEL_c9d6495e2b224139a94be829c49a7a3d",
        "IPY_MODEL_094daf0a2bab474ab06bb3bf7ce4faa1",
        "IPY_MODEL_853ca0349e7f439f82ee5e307150dbd0",
        "IPY_MODEL_0a22ff82b91d43d2b1e7fca3b50b0335"
       ],
       "layout": "IPY_MODEL_c8f66d1cfc32433785b33ae75e534b5a"
      }
     },
     "9b5e03f21853447aa0b3de1797d18af2": {
      "model_module": "jupyter-js-widgets",
      "model_module_version": "~2.1.4",
      "model_name": "LayoutModel",
      "state": {
       "_model_module_version": "~2.1.4",
       "_view_module_version": "~2.1.4"
      }
     },
     "9d37699e59da4cc387135f7d24a3c7b2": {
      "model_module": "jupyter-js-widgets",
      "model_module_version": "~2.1.4",
      "model_name": "LayoutModel",
      "state": {
       "_model_module_version": "~2.1.4",
       "_view_module_version": "~2.1.4"
      }
     },
     "9d837b87e4a74823b6fcfac37b8dd227": {
      "model_module": "jupyter-js-widgets",
      "model_module_version": "~2.1.4",
      "model_name": "LayoutModel",
      "state": {
       "_model_module_version": "~2.1.4",
       "_view_module_version": "~2.1.4"
      }
     },
     "9dd321329f5c48f2aa3f0e19af163b88": {
      "model_module": "jupyter-js-widgets",
      "model_module_version": "~2.1.4",
      "model_name": "LayoutModel",
      "state": {
       "_model_module_version": "~2.1.4",
       "_view_module_version": "~2.1.4"
      }
     },
     "9e762ea4b5dd4898aee892c09de3a212": {
      "model_module": "jupyter-js-widgets",
      "model_module_version": "~2.1.4",
      "model_name": "LayoutModel",
      "state": {
       "_model_module_version": "~2.1.4",
       "_view_module_version": "~2.1.4"
      }
     },
     "9f92637c03814589a95dcd00c2f39332": {
      "model_module": "jupyter-js-widgets",
      "model_module_version": "~2.1.4",
      "model_name": "LayoutModel",
      "state": {
       "_model_module_version": "~2.1.4",
       "_view_module_version": "~2.1.4"
      }
     },
     "9fd24fe7979f41b4a07adccd0715a123": {
      "model_module": "jupyter-js-widgets",
      "model_module_version": "~2.1.4",
      "model_name": "FloatSliderModel",
      "state": {
       "_model_module_version": "~2.1.4",
       "_view_module_version": "~2.1.4",
       "description": "noise_magnitude",
       "layout": "IPY_MODEL_29317f5398b54f4b901e9f42b7dc73e0",
       "max": 1,
       "step": 0.05
      }
     },
     "a07b92dedc6246429ca946d53d4314de": {
      "model_module": "jupyter-js-widgets",
      "model_module_version": "~2.1.4",
      "model_name": "LayoutModel",
      "state": {
       "_model_module_version": "~2.1.4",
       "_view_module_version": "~2.1.4"
      }
     },
     "a31f7b3fdb684af1a86e81344681a1a0": {
      "model_module": "jupyter-js-widgets",
      "model_module_version": "~2.1.4",
      "model_name": "LayoutModel",
      "state": {
       "_model_module_version": "~2.1.4",
       "_view_module_version": "~2.1.4"
      }
     },
     "a3a51e332f7a4dfbab9178ef46901294": {
      "model_module": "jupyter-js-widgets",
      "model_module_version": "~2.1.4",
      "model_name": "VBoxModel",
      "state": {
       "_dom_classes": [
        "widget-interact"
       ],
       "_model_module_version": "~2.1.4",
       "_view_module_version": "~2.1.4",
       "children": [
        "IPY_MODEL_28ec364a0d614cb7b20df950f43921b8",
        "IPY_MODEL_64a7991396e34a4986a3333674224cf4",
        "IPY_MODEL_798259efd91c453abf1cfbea2298bc43",
        "IPY_MODEL_fedf492cedbb40e99ad1948a1b3d70fc"
       ],
       "layout": "IPY_MODEL_bd0b1226a44c446aa4d87072ca4becb7"
      }
     },
     "a3aa493cc6cb4c148275300d8ab66380": {
      "model_module": "jupyter-js-widgets",
      "model_module_version": "~2.1.4",
      "model_name": "VBoxModel",
      "state": {
       "_dom_classes": [
        "widget-interact"
       ],
       "_model_module_version": "~2.1.4",
       "_view_module_version": "~2.1.4",
       "children": [
        "IPY_MODEL_9591ffbba08e4ba397156843db405279",
        "IPY_MODEL_378944bf8be8412e818e9e471bfb5c8e",
        "IPY_MODEL_d2c00a6a09ce43ef912da6d6a17333ce",
        "IPY_MODEL_4fefca39315d480980383696eb55818e"
       ],
       "layout": "IPY_MODEL_9e762ea4b5dd4898aee892c09de3a212"
      }
     },
     "a3f354bf636147b1a264536520d90cac": {
      "model_module": "jupyter-js-widgets",
      "model_module_version": "~2.1.4",
      "model_name": "LayoutModel",
      "state": {
       "_model_module_version": "~2.1.4",
       "_view_module_version": "~2.1.4"
      }
     },
     "a3f3c33cebce442f81fc115ef2e3e169": {
      "model_module": "jupyter-js-widgets",
      "model_module_version": "~2.1.4",
      "model_name": "LayoutModel",
      "state": {
       "_model_module_version": "~2.1.4",
       "_view_module_version": "~2.1.4"
      }
     },
     "a4367fecba2d4a66afee3382ad6b6207": {
      "model_module": "jupyter-js-widgets",
      "model_module_version": "~2.1.4",
      "model_name": "LayoutModel",
      "state": {
       "_model_module_version": "~2.1.4",
       "_view_module_version": "~2.1.4"
      }
     },
     "a54ef7121ff64ee39be0c56ead767dd3": {
      "model_module": "jupyter-js-widgets",
      "model_module_version": "~2.1.4",
      "model_name": "FloatSliderModel",
      "state": {
       "_model_module_version": "~2.1.4",
       "_view_module_version": "~2.1.4",
       "description": "noise_magnitude",
       "layout": "IPY_MODEL_81b08bbe688745779403ee5180e55fa7",
       "max": 1,
       "step": 0.05
      }
     },
     "a7b2061da541477281d2d34b90aeb9fa": {
      "model_module": "jupyter-js-widgets",
      "model_module_version": "~2.1.4",
      "model_name": "FloatSliderModel",
      "state": {
       "_model_module_version": "~2.1.4",
       "_view_module_version": "~2.1.4",
       "description": "beta_1",
       "layout": "IPY_MODEL_9645cb7e3c4941d4bc5fb67e18d2ca02",
       "max": 5,
       "step": 0.1,
       "value": 2
      }
     },
     "a9750c41fa514e5281a1ba8d9f38e406": {
      "model_module": "jupyter-js-widgets",
      "model_module_version": "~2.1.4",
      "model_name": "OutputModel",
      "state": {
       "_dom_classes": [],
       "_model_module": "jupyter-js-widgets",
       "_model_module_version": "~2.1.4",
       "_view_module": "jupyter-js-widgets",
       "_view_module_version": "~2.1.4",
       "layout": "IPY_MODEL_078708f09a1a4c16af216cf491f0494e",
       "msg_throttle": 1
      }
     },
     "a97d819cb58a456e96000934893fe09f": {
      "model_module": "jupyter-js-widgets",
      "model_module_version": "~2.1.4",
      "model_name": "FloatSliderModel",
      "state": {
       "_model_module_version": "~2.1.4",
       "_view_module_version": "~2.1.4",
       "description": "beta_0",
       "layout": "IPY_MODEL_1bdcd5b48aa14f7e9e8505b390c7ac60",
       "max": 2,
       "min": -2,
       "step": 0.1,
       "value": 1.2
      }
     },
     "aab3a4f77bc34628a1f25b261635119d": {
      "model_module": "jupyter-js-widgets",
      "model_module_version": "~2.1.4",
      "model_name": "FloatSliderModel",
      "state": {
       "_model_module_version": "~2.1.4",
       "_view_module_version": "~2.1.4",
       "description": "noise_magnitude",
       "layout": "IPY_MODEL_d7c77604b6c949b5b2ee71eac8342700",
       "max": 1,
       "step": 0.05
      }
     },
     "aaeabe2cba6c4e25939d39bc7fbf6e9f": {
      "model_module": "jupyter-js-widgets",
      "model_module_version": "~2.1.4",
      "model_name": "FloatSliderModel",
      "state": {
       "_model_module_version": "~2.1.4",
       "_view_module_version": "~2.1.4",
       "description": "noise_magnitude",
       "layout": "IPY_MODEL_548b2ae9221d4711b62a7086231d7579",
       "max": 1,
       "step": 0.05
      }
     },
     "ac358c21cf2a416caefbf61eda9b2cdb": {
      "model_module": "jupyter-js-widgets",
      "model_module_version": "~2.1.4",
      "model_name": "FloatSliderModel",
      "state": {
       "_model_module_version": "~2.1.4",
       "_view_module_version": "~2.1.4",
       "description": "beta_1",
       "layout": "IPY_MODEL_9d37699e59da4cc387135f7d24a3c7b2",
       "max": 5,
       "step": 0.1,
       "value": 2
      }
     },
     "acb8df9e43d04eeb8e2add76a0b455a4": {
      "model_module": "jupyter-js-widgets",
      "model_module_version": "~2.1.4",
      "model_name": "FloatSliderModel",
      "state": {
       "_model_module_version": "~2.1.4",
       "_view_module_version": "~2.1.4",
       "description": "beta_1",
       "layout": "IPY_MODEL_2dc687c2a83c4240837d47593538a005",
       "max": 5,
       "step": 0.1
      }
     },
     "ae003951a4a24c9690a8dcb3f37405cf": {
      "model_module": "jupyter-js-widgets",
      "model_module_version": "~2.1.4",
      "model_name": "FloatSliderModel",
      "state": {
       "_model_module_version": "~2.1.4",
       "_view_module_version": "~2.1.4",
       "description": "noise_magnitude",
       "layout": "IPY_MODEL_f6521a9cdab74adb9ad15776a8ba980d",
       "max": 1,
       "step": 0.05
      }
     },
     "af4d6d1b761c4984a1f6498307138cc3": {
      "model_module": "jupyter-js-widgets",
      "model_module_version": "~2.1.4",
      "model_name": "VBoxModel",
      "state": {
       "_dom_classes": [
        "widget-interact"
       ],
       "_model_module_version": "~2.1.4",
       "_view_module_version": "~2.1.4",
       "children": [
        "IPY_MODEL_6c0e89d4344144b2bb44977c9e2ca6b2",
        "IPY_MODEL_94385151d29e49899c0fc305f1d677d7",
        "IPY_MODEL_5502cc6506e54560a0b7384ce0012b3e",
        "IPY_MODEL_eb91c954d6f143029c5111ab70806c25"
       ],
       "layout": "IPY_MODEL_9f92637c03814589a95dcd00c2f39332"
      }
     },
     "af87ad3b79ed4adb8d78191703567cb8": {
      "model_module": "jupyter-js-widgets",
      "model_module_version": "~2.1.4",
      "model_name": "VBoxModel",
      "state": {
       "_dom_classes": [
        "widget-interact"
       ],
       "_model_module_version": "~2.1.4",
       "_view_module_version": "~2.1.4",
       "children": [
        "IPY_MODEL_b6eb8c3afe89487585d2859874ec320f",
        "IPY_MODEL_6b517c1b36c54aaa9f29c741edb2e8a3",
        "IPY_MODEL_aab3a4f77bc34628a1f25b261635119d",
        "IPY_MODEL_5cf63ce47ef645abadce3d363ba28080"
       ],
       "layout": "IPY_MODEL_221d16ceddee4297bb4c3c6945918e00"
      }
     },
     "b4c6abbb54034969a2f3132dd85b9784": {
      "model_module": "jupyter-js-widgets",
      "model_module_version": "~2.1.4",
      "model_name": "LayoutModel",
      "state": {
       "_model_module_version": "~2.1.4",
       "_view_module_version": "~2.1.4"
      }
     },
     "b6eb8c3afe89487585d2859874ec320f": {
      "model_module": "jupyter-js-widgets",
      "model_module_version": "~2.1.4",
      "model_name": "FloatSliderModel",
      "state": {
       "_model_module_version": "~2.1.4",
       "_view_module_version": "~2.1.4",
       "description": "beta_0",
       "layout": "IPY_MODEL_7b1509ba5da84fe8b31a3a7431a1c5e4",
       "max": 2,
       "min": -2,
       "step": 0.1
      }
     },
     "b8212e52071e4d439faa3c7ef82cd808": {
      "model_module": "jupyter-js-widgets",
      "model_module_version": "~2.1.4",
      "model_name": "OutputModel",
      "state": {
       "_dom_classes": [],
       "_model_module": "jupyter-js-widgets",
       "_model_module_version": "~2.1.4",
       "_view_module": "jupyter-js-widgets",
       "_view_module_version": "~2.1.4",
       "layout": "IPY_MODEL_16c99e79ffce434facff79d5e4379b82",
       "msg_throttle": 1
      }
     },
     "b90f37792c1f406c968668918198bee8": {
      "model_module": "jupyter-js-widgets",
      "model_module_version": "~2.1.4",
      "model_name": "VBoxModel",
      "state": {
       "_dom_classes": [
        "widget-interact"
       ],
       "_model_module_version": "~2.1.4",
       "_view_module_version": "~2.1.4",
       "children": [
        "IPY_MODEL_e68403529dd2469ebabeca2a5815b81d",
        "IPY_MODEL_17e82fe7902d49c4a307dd800fc8c809",
        "IPY_MODEL_2357828ac9bb4be09b2cdbae52806568",
        "IPY_MODEL_2e2f80322fb34f3a802e7074d13ab911"
       ],
       "layout": "IPY_MODEL_d3dde9e6731c494f8224046e4191128a"
      }
     },
     "bb47356cfe344c8281aff54d87e0c669": {
      "model_module": "jupyter-js-widgets",
      "model_module_version": "~2.1.4",
      "model_name": "LayoutModel",
      "state": {
       "_model_module_version": "~2.1.4",
       "_view_module_version": "~2.1.4"
      }
     },
     "bba46b8665b445e1a1497d987505f53a": {
      "model_module": "jupyter-js-widgets",
      "model_module_version": "~2.1.4",
      "model_name": "OutputModel",
      "state": {
       "_dom_classes": [],
       "_model_module": "jupyter-js-widgets",
       "_model_module_version": "~2.1.4",
       "_view_module": "jupyter-js-widgets",
       "_view_module_version": "~2.1.4",
       "layout": "IPY_MODEL_c77be139ab4a4e9b8d68fc8cdd69928b",
       "msg_throttle": 1
      }
     },
     "bbf550e0a1d44192aa033b2d7983911c": {
      "model_module": "jupyter-js-widgets",
      "model_module_version": "~2.1.4",
      "model_name": "LayoutModel",
      "state": {
       "_model_module_version": "~2.1.4",
       "_view_module_version": "~2.1.4"
      }
     },
     "bd0b1226a44c446aa4d87072ca4becb7": {
      "model_module": "jupyter-js-widgets",
      "model_module_version": "~2.1.4",
      "model_name": "LayoutModel",
      "state": {
       "_model_module_version": "~2.1.4",
       "_view_module_version": "~2.1.4"
      }
     },
     "c00dcae543c6459e8fd54f33a1491f1c": {
      "model_module": "jupyter-js-widgets",
      "model_module_version": "~2.1.4",
      "model_name": "FloatSliderModel",
      "state": {
       "_model_module_version": "~2.1.4",
       "_view_module_version": "~2.1.4",
       "description": "beta_1",
       "layout": "IPY_MODEL_19d4905ec3e64307a0182b374950a716",
       "max": 5,
       "step": 0.1,
       "value": 2
      }
     },
     "c087bc2b5faa49e68c0106def2e307bf": {
      "model_module": "jupyter-js-widgets",
      "model_module_version": "~2.1.4",
      "model_name": "FloatSliderModel",
      "state": {
       "_model_module_version": "~2.1.4",
       "_view_module_version": "~2.1.4",
       "description": "beta_0",
       "layout": "IPY_MODEL_de0849e4bd0d4ef39bb1267e47412b13",
       "max": 2,
       "min": -2,
       "step": 0.1,
       "value": -0.6
      }
     },
     "c0935fb7c3ea4365a9a0b8783e5c84ee": {
      "model_module": "jupyter-js-widgets",
      "model_module_version": "~2.1.4",
      "model_name": "VBoxModel",
      "state": {
       "_dom_classes": [
        "widget-interact"
       ],
       "_model_module_version": "~2.1.4",
       "_view_module_version": "~2.1.4",
       "children": [
        "IPY_MODEL_75891ee7515d44409987f5e641a13372",
        "IPY_MODEL_53edcf43bbce4f27b9793ddfec10b719",
        "IPY_MODEL_6d64cda103454c939b93b7dc73e40e6b",
        "IPY_MODEL_d6192e207418421db5fc50739afb69dd"
       ],
       "layout": "IPY_MODEL_e0ddbc06b17a45f9a55fe5ae6f268b73"
      }
     },
     "c194541c8419430a84a42c3f5e86090c": {
      "model_module": "jupyter-js-widgets",
      "model_module_version": "~2.1.4",
      "model_name": "VBoxModel",
      "state": {
       "_dom_classes": [
        "widget-interact"
       ],
       "_model_module_version": "~2.1.4",
       "_view_module_version": "~2.1.4",
       "children": [
        "IPY_MODEL_67bf24fa559547dc992a58d204c29f58",
        "IPY_MODEL_85c1d811f83f4959bbf96e7e9e3f4f4d",
        "IPY_MODEL_cdcb06a803874a0e978560508f3660f9",
        "IPY_MODEL_772186859d4e42bab6a3fdbe033fc315"
       ],
       "layout": "IPY_MODEL_76fbebcc033f429a84c0c4f624d7ccb7"
      }
     },
     "c43682dce89e43519e32d3e21e685057": {
      "model_module": "jupyter-js-widgets",
      "model_module_version": "~2.1.4",
      "model_name": "VBoxModel",
      "state": {
       "_dom_classes": [
        "widget-interact"
       ],
       "_model_module_version": "~2.1.4",
       "_view_module_version": "~2.1.4",
       "children": [
        "IPY_MODEL_4b8c39567d424bc6a4a613ea8f12d074",
        "IPY_MODEL_cd304b18a9924e2591c508f21df9ceea",
        "IPY_MODEL_6471864c4d7c47cd99f08ef83724bda9",
        "IPY_MODEL_4b7725fada4746c2a137abc24913ff69"
       ],
       "layout": "IPY_MODEL_2a8cbf9f9d0a4cc1a8eb8dd224a422c8"
      }
     },
     "c6fb997d07154052b53893a348bac79c": {
      "model_module": "jupyter-js-widgets",
      "model_module_version": "~2.1.4",
      "model_name": "VBoxModel",
      "state": {
       "_dom_classes": [
        "widget-interact"
       ],
       "_model_module_version": "~2.1.4",
       "_view_module_version": "~2.1.4",
       "children": [
        "IPY_MODEL_6759dd5ea97845a2a230e4a62b82c2c7",
        "IPY_MODEL_29640491680a41b0bc386fc06a1acf0f",
        "IPY_MODEL_228e6825dd454437826532cf25fd67bc",
        "IPY_MODEL_fb34e14a18ca44dbbd22a11ba1798c69"
       ],
       "layout": "IPY_MODEL_851d09de70824d78b55ca7c98aa8cf03"
      }
     },
     "c77be139ab4a4e9b8d68fc8cdd69928b": {
      "model_module": "jupyter-js-widgets",
      "model_module_version": "~2.1.4",
      "model_name": "LayoutModel",
      "state": {
       "_model_module_version": "~2.1.4",
       "_view_module_version": "~2.1.4"
      }
     },
     "c8f66d1cfc32433785b33ae75e534b5a": {
      "model_module": "jupyter-js-widgets",
      "model_module_version": "~2.1.4",
      "model_name": "LayoutModel",
      "state": {
       "_model_module_version": "~2.1.4",
       "_view_module_version": "~2.1.4"
      }
     },
     "c9d6495e2b224139a94be829c49a7a3d": {
      "model_module": "jupyter-js-widgets",
      "model_module_version": "~2.1.4",
      "model_name": "FloatSliderModel",
      "state": {
       "_model_module_version": "~2.1.4",
       "_view_module_version": "~2.1.4",
       "description": "beta_0",
       "layout": "IPY_MODEL_e6ac102858c24ea794487bd988a01a9b",
       "max": 2,
       "min": -2,
       "step": 0.1
      }
     },
     "cb3d3400b49541948aebc407336ca7b9": {
      "model_module": "jupyter-js-widgets",
      "model_module_version": "~2.1.4",
      "model_name": "FloatSliderModel",
      "state": {
       "_model_module_version": "~2.1.4",
       "_view_module_version": "~2.1.4",
       "description": "beta_1",
       "layout": "IPY_MODEL_09786b0c84e3455c8aaf48bc7072226c",
       "max": 5,
       "step": 0.1,
       "value": 2
      }
     },
     "cb6f551212614db287918afefe10a6e9": {
      "model_module": "jupyter-js-widgets",
      "model_module_version": "~2.1.4",
      "model_name": "FloatSliderModel",
      "state": {
       "_model_module_version": "~2.1.4",
       "_view_module_version": "~2.1.4",
       "description": "beta_0",
       "layout": "IPY_MODEL_a07b92dedc6246429ca946d53d4314de",
       "max": 2,
       "min": -2,
       "step": 0.1
      }
     },
     "cd304b18a9924e2591c508f21df9ceea": {
      "model_module": "jupyter-js-widgets",
      "model_module_version": "~2.1.4",
      "model_name": "FloatSliderModel",
      "state": {
       "_model_module_version": "~2.1.4",
       "_view_module_version": "~2.1.4",
       "description": "beta_1",
       "layout": "IPY_MODEL_5b61fdb9bc9f45acbcb1d0edc91fca93",
       "max": 5,
       "step": 0.1,
       "value": 2
      }
     },
     "cdcb06a803874a0e978560508f3660f9": {
      "model_module": "jupyter-js-widgets",
      "model_module_version": "~2.1.4",
      "model_name": "FloatSliderModel",
      "state": {
       "_model_module_version": "~2.1.4",
       "_view_module_version": "~2.1.4",
       "description": "noise_magnitude",
       "layout": "IPY_MODEL_49190e40609e491bb32a2bcec5db9dfc",
       "max": 1,
       "step": 0.05,
       "value": 0.25
      }
     },
     "cf2ca580cad6470abc446f8a2284595e": {
      "model_module": "jupyter-js-widgets",
      "model_module_version": "~2.1.4",
      "model_name": "FloatSliderModel",
      "state": {
       "_model_module_version": "~2.1.4",
       "_view_module_version": "~2.1.4",
       "description": "beta_1",
       "layout": "IPY_MODEL_08c8a9d044f6400dbdc153335ba2ccdc",
       "max": 5,
       "step": 0.1,
       "value": 2
      }
     },
     "d2c00a6a09ce43ef912da6d6a17333ce": {
      "model_module": "jupyter-js-widgets",
      "model_module_version": "~2.1.4",
      "model_name": "FloatSliderModel",
      "state": {
       "_model_module_version": "~2.1.4",
       "_view_module_version": "~2.1.4",
       "description": "noise_magnitude",
       "layout": "IPY_MODEL_11fa58c542e04fe6bb79c9c97a628b4c",
       "max": 1,
       "step": 0.05,
       "value": 0.35
      }
     },
     "d2db6d2e1de94621a870064ae4bcd12e": {
      "model_module": "jupyter-js-widgets",
      "model_module_version": "~2.1.4",
      "model_name": "LayoutModel",
      "state": {
       "_model_module_version": "~2.1.4",
       "_view_module_version": "~2.1.4"
      }
     },
     "d2ebfcc5e5ad4f4d8de3d28b2b7c5a6d": {
      "model_module": "jupyter-js-widgets",
      "model_module_version": "~2.1.4",
      "model_name": "VBoxModel",
      "state": {
       "_dom_classes": [
        "widget-interact"
       ],
       "_model_module_version": "~2.1.4",
       "_view_module_version": "~2.1.4",
       "children": [
        "IPY_MODEL_4b6cf11e570144d7b56a9309cde8f0f2",
        "IPY_MODEL_44af2c20b69d425480e6fa1199368568",
        "IPY_MODEL_db04ef6a16fc48fbbd3a1688d43d386d",
        "IPY_MODEL_77ae147c33024b8f96b9c338e2248fef"
       ],
       "layout": "IPY_MODEL_d61f3369b7ca489ba1bd912384964d11"
      }
     },
     "d39e5803119f4a4fae7c6b701644f7ac": {
      "model_module": "jupyter-js-widgets",
      "model_module_version": "~2.1.4",
      "model_name": "LayoutModel",
      "state": {
       "_model_module_version": "~2.1.4",
       "_view_module_version": "~2.1.4"
      }
     },
     "d3dde9e6731c494f8224046e4191128a": {
      "model_module": "jupyter-js-widgets",
      "model_module_version": "~2.1.4",
      "model_name": "LayoutModel",
      "state": {
       "_model_module_version": "~2.1.4",
       "_view_module_version": "~2.1.4"
      }
     },
     "d6104c2ab5ab420c97264d21bf0d51e5": {
      "model_module": "jupyter-js-widgets",
      "model_module_version": "~2.1.4",
      "model_name": "LayoutModel",
      "state": {
       "_model_module_version": "~2.1.4",
       "_view_module_version": "~2.1.4"
      }
     },
     "d6192e207418421db5fc50739afb69dd": {
      "model_module": "jupyter-js-widgets",
      "model_module_version": "~2.1.4",
      "model_name": "OutputModel",
      "state": {
       "_dom_classes": [],
       "_model_module": "jupyter-js-widgets",
       "_model_module_version": "~2.1.4",
       "_view_module": "jupyter-js-widgets",
       "_view_module_version": "~2.1.4",
       "layout": "IPY_MODEL_5c828c0e45764970b93609baddad9c14",
       "msg_throttle": 1
      }
     },
     "d61f3369b7ca489ba1bd912384964d11": {
      "model_module": "jupyter-js-widgets",
      "model_module_version": "~2.1.4",
      "model_name": "LayoutModel",
      "state": {
       "_model_module_version": "~2.1.4",
       "_view_module_version": "~2.1.4"
      }
     },
     "d7c77604b6c949b5b2ee71eac8342700": {
      "model_module": "jupyter-js-widgets",
      "model_module_version": "~2.1.4",
      "model_name": "LayoutModel",
      "state": {
       "_model_module_version": "~2.1.4",
       "_view_module_version": "~2.1.4"
      }
     },
     "db04ef6a16fc48fbbd3a1688d43d386d": {
      "model_module": "jupyter-js-widgets",
      "model_module_version": "~2.1.4",
      "model_name": "FloatSliderModel",
      "state": {
       "_model_module_version": "~2.1.4",
       "_view_module_version": "~2.1.4",
       "description": "noise_magnitude",
       "layout": "IPY_MODEL_8fcbd6faa5c44e58bb0ab4479fe6891a",
       "max": 1,
       "step": 0.05
      }
     },
     "dcd052a787554f58a786c41ec21842dc": {
      "model_module": "jupyter-js-widgets",
      "model_module_version": "~2.1.4",
      "model_name": "LayoutModel",
      "state": {
       "_model_module_version": "~2.1.4",
       "_view_module_version": "~2.1.4"
      }
     },
     "de0849e4bd0d4ef39bb1267e47412b13": {
      "model_module": "jupyter-js-widgets",
      "model_module_version": "~2.1.4",
      "model_name": "LayoutModel",
      "state": {
       "_model_module_version": "~2.1.4",
       "_view_module_version": "~2.1.4"
      }
     },
     "df3b6a50c62a496fb896b9aa0eb9742c": {
      "model_module": "jupyter-js-widgets",
      "model_module_version": "~2.1.4",
      "model_name": "FloatSliderModel",
      "state": {
       "_model_module_version": "~2.1.4",
       "_view_module_version": "~2.1.4",
       "description": "beta_1",
       "layout": "IPY_MODEL_4d96adda4e2148ee9feca20488a7e8f7",
       "max": 5,
       "step": 0.1,
       "value": 2
      }
     },
     "df61445739424f619dfc85a72aa9f9d6": {
      "model_module": "jupyter-js-widgets",
      "model_module_version": "~2.1.4",
      "model_name": "LayoutModel",
      "state": {
       "_model_module_version": "~2.1.4",
       "_view_module_version": "~2.1.4"
      }
     },
     "e02730727c884b49bf40bfcabeaa8e34": {
      "model_module": "jupyter-js-widgets",
      "model_module_version": "~2.1.4",
      "model_name": "VBoxModel",
      "state": {
       "_dom_classes": [
        "widget-interact"
       ],
       "_model_module_version": "~2.1.4",
       "_view_module_version": "~2.1.4",
       "children": [
        "IPY_MODEL_3b3a7875e68b452fa00860ee778e5638",
        "IPY_MODEL_acb8df9e43d04eeb8e2add76a0b455a4",
        "IPY_MODEL_3d502b37de0d4e6197d3fd1ea6146c9c",
        "IPY_MODEL_2a1c81bb437f439fbca7f63065302453"
       ],
       "layout": "IPY_MODEL_301f303bfa29406d94142bb058b4cec7"
      }
     },
     "e0791e2240aa40d39ffce7c52e2997b3": {
      "model_module": "jupyter-js-widgets",
      "model_module_version": "~2.1.4",
      "model_name": "LayoutModel",
      "state": {
       "_model_module_version": "~2.1.4",
       "_view_module_version": "~2.1.4"
      }
     },
     "e0ddbc06b17a45f9a55fe5ae6f268b73": {
      "model_module": "jupyter-js-widgets",
      "model_module_version": "~2.1.4",
      "model_name": "LayoutModel",
      "state": {
       "_model_module_version": "~2.1.4",
       "_view_module_version": "~2.1.4"
      }
     },
     "e3997e0fd4324b218de38c4707ba3d35": {
      "model_module": "jupyter-js-widgets",
      "model_module_version": "~2.1.4",
      "model_name": "LayoutModel",
      "state": {
       "_model_module_version": "~2.1.4",
       "_view_module_version": "~2.1.4"
      }
     },
     "e4de915154a04c2fa9ec1bfae73e3112": {
      "model_module": "jupyter-js-widgets",
      "model_module_version": "~2.1.4",
      "model_name": "LayoutModel",
      "state": {
       "_model_module_version": "~2.1.4",
       "_view_module_version": "~2.1.4"
      }
     },
     "e6360542e4194ae09efbadf65336eafa": {
      "model_module": "jupyter-js-widgets",
      "model_module_version": "~2.1.4",
      "model_name": "LayoutModel",
      "state": {
       "_model_module_version": "~2.1.4",
       "_view_module_version": "~2.1.4"
      }
     },
     "e68403529dd2469ebabeca2a5815b81d": {
      "model_module": "jupyter-js-widgets",
      "model_module_version": "~2.1.4",
      "model_name": "FloatSliderModel",
      "state": {
       "_model_module_version": "~2.1.4",
       "_view_module_version": "~2.1.4",
       "description": "beta_0",
       "layout": "IPY_MODEL_f31e68a2e9ba4f6b99159ce1df4ded40",
       "max": 2,
       "min": -2,
       "step": 0.1
      }
     },
     "e6ac102858c24ea794487bd988a01a9b": {
      "model_module": "jupyter-js-widgets",
      "model_module_version": "~2.1.4",
      "model_name": "LayoutModel",
      "state": {
       "_model_module_version": "~2.1.4",
       "_view_module_version": "~2.1.4"
      }
     },
     "ea26cfa69c4844319a1254d182ff8a64": {
      "model_module": "jupyter-js-widgets",
      "model_module_version": "~2.1.4",
      "model_name": "FloatSliderModel",
      "state": {
       "_model_module_version": "~2.1.4",
       "_view_module_version": "~2.1.4",
       "description": "beta_0",
       "layout": "IPY_MODEL_edcbb0cfc9464f57a54834f85610e709",
       "max": 2,
       "min": -2,
       "step": 0.1
      }
     },
     "eb91c954d6f143029c5111ab70806c25": {
      "model_module": "jupyter-js-widgets",
      "model_module_version": "~2.1.4",
      "model_name": "OutputModel",
      "state": {
       "_dom_classes": [],
       "_model_module": "jupyter-js-widgets",
       "_model_module_version": "~2.1.4",
       "_view_module": "jupyter-js-widgets",
       "_view_module_version": "~2.1.4",
       "layout": "IPY_MODEL_5f3bc5229f3440298484d9f8861651d1",
       "msg_throttle": 1
      }
     },
     "edcbb0cfc9464f57a54834f85610e709": {
      "model_module": "jupyter-js-widgets",
      "model_module_version": "~2.1.4",
      "model_name": "LayoutModel",
      "state": {
       "_model_module_version": "~2.1.4",
       "_view_module_version": "~2.1.4"
      }
     },
     "f06afad951ad4770bca54db1634d90cb": {
      "model_module": "jupyter-js-widgets",
      "model_module_version": "~2.1.4",
      "model_name": "LayoutModel",
      "state": {
       "_model_module_version": "~2.1.4",
       "_view_module_version": "~2.1.4"
      }
     },
     "f31e68a2e9ba4f6b99159ce1df4ded40": {
      "model_module": "jupyter-js-widgets",
      "model_module_version": "~2.1.4",
      "model_name": "LayoutModel",
      "state": {
       "_model_module_version": "~2.1.4",
       "_view_module_version": "~2.1.4"
      }
     },
     "f6521a9cdab74adb9ad15776a8ba980d": {
      "model_module": "jupyter-js-widgets",
      "model_module_version": "~2.1.4",
      "model_name": "LayoutModel",
      "state": {
       "_model_module_version": "~2.1.4",
       "_view_module_version": "~2.1.4"
      }
     },
     "f9b1c36758f54293b257c4a44ea101d8": {
      "model_module": "jupyter-js-widgets",
      "model_module_version": "~2.1.4",
      "model_name": "FloatSliderModel",
      "state": {
       "_model_module_version": "~2.1.4",
       "_view_module_version": "~2.1.4",
       "description": "beta_0",
       "layout": "IPY_MODEL_388d125ed04543288125584f04e81678",
       "max": 2,
       "min": -2,
       "step": 0.1
      }
     },
     "fa005402d87b4931a900e525c1b1f7b3": {
      "model_module": "jupyter-js-widgets",
      "model_module_version": "~2.1.4",
      "model_name": "LayoutModel",
      "state": {
       "_model_module_version": "~2.1.4",
       "_view_module_version": "~2.1.4"
      }
     },
     "fb34e14a18ca44dbbd22a11ba1798c69": {
      "model_module": "jupyter-js-widgets",
      "model_module_version": "~2.1.4",
      "model_name": "OutputModel",
      "state": {
       "_dom_classes": [],
       "_model_module": "jupyter-js-widgets",
       "_model_module_version": "~2.1.4",
       "_view_module": "jupyter-js-widgets",
       "_view_module_version": "~2.1.4",
       "layout": "IPY_MODEL_5124f5645c664b96a044d02f0ea650f1",
       "msg_throttle": 1
      }
     },
     "fedf492cedbb40e99ad1948a1b3d70fc": {
      "model_module": "jupyter-js-widgets",
      "model_module_version": "~2.1.4",
      "model_name": "OutputModel",
      "state": {
       "_dom_classes": [],
       "_model_module": "jupyter-js-widgets",
       "_model_module_version": "~2.1.4",
       "_view_module": "jupyter-js-widgets",
       "_view_module_version": "~2.1.4",
       "layout": "IPY_MODEL_1f4bd8efb70349198bd20248c2030ad2",
       "msg_throttle": 1
      }
     }
    },
    "version_major": 1,
    "version_minor": 0
   }
  }
 },
 "nbformat": 4,
 "nbformat_minor": 2
}
