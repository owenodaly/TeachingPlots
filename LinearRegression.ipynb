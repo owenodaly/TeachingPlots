{
 "cells": [
  {
   "cell_type": "code",
   "execution_count": 1,
   "metadata": {
    "collapsed": false,
    "deletable": true,
    "editable": true
   },
   "outputs": [
    {
     "data": {
      "text/html": [
       "<script>\n",
       "code_show=true; \n",
       "function code_toggle() {\n",
       " if (code_show){\n",
       " $('div.input').hide();\n",
       " } else {\n",
       " $('div.input').show();\n",
       " }\n",
       " code_show = !code_show\n",
       "} \n",
       "$( document ).ready(code_toggle);\n",
       "</script>\n",
       "<form action=\"javascript:code_toggle()\"><input type=\"submit\" value=\"Click here to toggle on/off the raw code.\"></form>"
      ],
      "text/plain": [
       "<IPython.core.display.HTML object>"
      ]
     },
     "execution_count": 1,
     "metadata": {},
     "output_type": "execute_result"
    }
   ],
   "source": [
    "from IPython.display import HTML\n",
    "\n",
    "HTML('''<script>\n",
    "code_show=true; \n",
    "function code_toggle() {\n",
    " if (code_show){\n",
    " $('div.input').hide();\n",
    " } else {\n",
    " $('div.input').show();\n",
    " }\n",
    " code_show = !code_show\n",
    "} \n",
    "$( document ).ready(code_toggle);\n",
    "</script>\n",
    "<form action=\"javascript:code_toggle()\"><input type=\"submit\" value=\"Click here to toggle on/off the raw code.\"></form>''')\n"
   ]
  },
  {
   "cell_type": "code",
   "execution_count": 2,
   "metadata": {
    "collapsed": false,
    "deletable": true,
    "editable": true
   },
   "outputs": [],
   "source": [
    "from ipywidgets import interact, interactive, IntSlider, Layout, interact_manual \n",
    "import ipywidgets as widgets \n",
    "from IPython.display import display\n",
    "import numpy as np \n",
    "import matplotlib.pyplot as plt\n",
    "#%matplotlib inline\n",
    "import pandas as pd\n",
    "import nipy\n",
    "from nipy.modalities.fmri import hrf, utils\n",
    "from scipy import signal\n",
    "import plotly\n",
    "import plotly.graph_objs as go\n",
    "import string\n",
    "import numpy as np"
   ]
  },
  {
   "cell_type": "code",
   "execution_count": 10,
   "metadata": {
    "collapsed": false,
    "deletable": true,
    "editable": true
   },
   "outputs": [],
   "source": [
    "# the non-interactive aspects of this code were stoken from here: http://nbviewer.jupyter.org/github/csaid/polished_notebooks/blob/master/notebook_original.ipynb\n",
    "\n",
    "def func_gen(beta_0,beta_1,noise_magnitude):\n",
    "    plotly.offline.init_notebook_mode() \n",
    "    real_intercept = 4.2\n",
    "    real_slope = 6.3\n",
    "    x = real_intercept+np.random.randn(26)\n",
    "    y = x*real_slope + np.random.randn(26)*noise_magnitude\n",
    "    y_fitted = beta_0+beta_1*x\n",
    "    plt.figure(figsize=(12,12))\n",
    "    plt.scatter(x,y)\n",
    "    plt.plot(x,y_fitted,'r')\n",
    "    error= sum((y - y_fitted)**2)\n",
    "    #title = print(' + %0.2f' %error)\n",
    "    #title =  title(\"\\$\\\\pi\\$ = $pi\")\n",
    "    plt.title(\"y = intecept + slope*x + residual error \\n raw_data = %5.2f + %5.2f*x + %5.2f \\n fitted_data = %5.2f + %5.2f*x\" % (beta_0, beta_1,  error, beta_0, beta_1), fontsize=30)\n",
    "    plt.legend\n",
    "    #plt.grid(True)\n",
    "    plt.show()\n",
    "    return (x, y, error, beta_0, beta_1, y_fitted, noise_magnitude)\n",
    "    "
   ]
  },
  {
   "cell_type": "code",
   "execution_count": 11,
   "metadata": {
    "collapsed": false,
    "deletable": true,
    "editable": true
   },
   "outputs": [
    {
     "data": {
      "application/vnd.jupyter.widget-view+json": {
       "model_id": "fd659f6b49d94c6383de70f768e2bae9"
      }
     },
     "metadata": {},
     "output_type": "display_data"
    }
   ],
   "source": [
    "p=interactive(func_gen, beta_0 = (0,10,0.1), beta_1=(0,10,.1), noise_magnitude=(0,10,.1))\n",
    "display(p)"
   ]
  },
  {
   "cell_type": "code",
   "execution_count": null,
   "metadata": {
    "collapsed": true,
    "deletable": true,
    "editable": true
   },
   "outputs": [],
   "source": []
  },
  {
   "cell_type": "code",
   "execution_count": null,
   "metadata": {
    "collapsed": true,
    "deletable": true,
    "editable": true
   },
   "outputs": [],
   "source": []
  },
  {
   "cell_type": "code",
   "execution_count": null,
   "metadata": {
    "collapsed": true,
    "deletable": true,
    "editable": true
   },
   "outputs": [],
   "source": []
  }
 ],
 "metadata": {
  "celltoolbar": "Slideshow",
  "kernelspec": {
   "display_name": "Python 3",
   "language": "python",
   "name": "python3"
  },
  "language_info": {
   "codemirror_mode": {
    "name": "ipython",
    "version": 3
   },
   "file_extension": ".py",
   "mimetype": "text/x-python",
   "name": "python",
   "nbconvert_exporter": "python",
   "pygments_lexer": "ipython3",
   "version": "3.5.2"
  },
  "widgets": {
   "application/vnd.jupyter.widget-state+json": {
    "state": {
     "00b481e229d744749febd3a6aa0fb669": {
      "model_module": "jupyter-js-widgets",
      "model_module_version": "~2.1.4",
      "model_name": "LayoutModel",
      "state": {
       "_model_module_version": "~2.1.4",
       "_view_module_version": "~2.1.4"
      }
     },
     "00f46c4166b04406909e6534a1725ccd": {
      "model_module": "jupyter-js-widgets",
      "model_module_version": "~2.1.4",
      "model_name": "LayoutModel",
      "state": {
       "_model_module_version": "~2.1.4",
       "_view_module_version": "~2.1.4"
      }
     },
     "0161e84581234ffe9c5b33b3e3e46903": {
      "model_module": "jupyter-js-widgets",
      "model_module_version": "~2.1.4",
      "model_name": "FloatSliderModel",
      "state": {
       "_model_module_version": "~2.1.4",
       "_view_module_version": "~2.1.4",
       "description": "beta_1",
       "layout": "IPY_MODEL_e830827e01b3428b900993c8d808efe7",
       "max": 5,
       "step": 0.1,
       "value": 2
      }
     },
     "0322f6967e024ef7b4dca189b260a544": {
      "model_module": "jupyter-js-widgets",
      "model_module_version": "~2.1.4",
      "model_name": "LayoutModel",
      "state": {
       "_model_module_version": "~2.1.4",
       "_view_module_version": "~2.1.4"
      }
     },
     "033f284524964035a6658129ecc9a59f": {
      "model_module": "jupyter-js-widgets",
      "model_module_version": "~2.1.4",
      "model_name": "FloatSliderModel",
      "state": {
       "_model_module_version": "~2.1.4",
       "_view_module_version": "~2.1.4",
       "description": "beta_1",
       "layout": "IPY_MODEL_8e0936d68cf549e59624bb7a5ed4e451",
       "max": 5,
       "step": 0.1,
       "value": 2.6
      }
     },
     "0369e03f0fb741adac0b5584444a9b4c": {
      "model_module": "jupyter-js-widgets",
      "model_module_version": "~2.1.4",
      "model_name": "FloatSliderModel",
      "state": {
       "_model_module_version": "~2.1.4",
       "_view_module_version": "~2.1.4",
       "description": "beta_1",
       "layout": "IPY_MODEL_b58be1a7bddf4f00b1b7df63229ff0dd",
       "max": 10,
       "min": -1,
       "step": 0.1
      }
     },
     "047b06df85ac47419b18cdc21f5c7960": {
      "model_module": "jupyter-js-widgets",
      "model_module_version": "~2.1.4",
      "model_name": "LayoutModel",
      "state": {
       "_model_module_version": "~2.1.4",
       "_view_module_version": "~2.1.4"
      }
     },
     "0482bccb570847ef922d7dcbc7acd55e": {
      "model_module": "jupyter-js-widgets",
      "model_module_version": "~2.1.4",
      "model_name": "OutputModel",
      "state": {
       "_dom_classes": [],
       "_model_module": "jupyter-js-widgets",
       "_model_module_version": "~2.1.4",
       "_view_module": "jupyter-js-widgets",
       "_view_module_version": "~2.1.4",
       "layout": "IPY_MODEL_9929de0ba65144ef962890c9df8bc759",
       "msg_throttle": 1
      }
     },
     "06a454d60f8f4f8c9fd10c96e5858bf4": {
      "model_module": "jupyter-js-widgets",
      "model_module_version": "~2.1.4",
      "model_name": "FloatSliderModel",
      "state": {
       "_model_module_version": "~2.1.4",
       "_view_module_version": "~2.1.4",
       "description": "noise_magnitude",
       "layout": "IPY_MODEL_c978ad97893e48819629c0ba10c530df",
       "max": 1,
       "step": 0.05
      }
     },
     "0727209e16d74cca9a5370a974cfac47": {
      "model_module": "jupyter-js-widgets",
      "model_module_version": "~2.1.4",
      "model_name": "LayoutModel",
      "state": {
       "_model_module_version": "~2.1.4",
       "_view_module_version": "~2.1.4"
      }
     },
     "08fb1071ff8040f8a703b2d025d4d580": {
      "model_module": "jupyter-js-widgets",
      "model_module_version": "~2.1.4",
      "model_name": "FloatSliderModel",
      "state": {
       "_model_module_version": "~2.1.4",
       "_view_module_version": "~2.1.4",
       "description": "beta_0",
       "layout": "IPY_MODEL_ce0bb096acb54847b5a344a098425d23",
       "max": 10,
       "min": -1,
       "step": 0.5,
       "value": 4
      }
     },
     "0ebd7c2477904082a878cf2a22a7a110": {
      "model_module": "jupyter-js-widgets",
      "model_module_version": "~2.1.4",
      "model_name": "VBoxModel",
      "state": {
       "_dom_classes": [
        "widget-interact"
       ],
       "_model_module_version": "~2.1.4",
       "_view_module_version": "~2.1.4",
       "children": [
        "IPY_MODEL_a9aae401a30d472897a02fca21c4763d",
        "IPY_MODEL_8ff6dd16f7064438bffeee75d2b46f61",
        "IPY_MODEL_4e782642631e491fb615517cf2958b0c",
        "IPY_MODEL_8259726d791f4a5785a3953d718abf6f"
       ],
       "layout": "IPY_MODEL_b952d97f4e304e2f911f76de21425b97"
      }
     },
     "1062a4d3c4a04a01817183a3b1244779": {
      "model_module": "jupyter-js-widgets",
      "model_module_version": "~2.1.4",
      "model_name": "OutputModel",
      "state": {
       "_dom_classes": [],
       "_model_module": "jupyter-js-widgets",
       "_model_module_version": "~2.1.4",
       "_view_module": "jupyter-js-widgets",
       "_view_module_version": "~2.1.4",
       "layout": "IPY_MODEL_649b6dd70749495ebd5fade1f931699d",
       "msg_throttle": 1
      }
     },
     "10de2df68875455c90135a5a0c3fbe9d": {
      "model_module": "jupyter-js-widgets",
      "model_module_version": "~2.1.4",
      "model_name": "LayoutModel",
      "state": {
       "_model_module_version": "~2.1.4",
       "_view_module_version": "~2.1.4"
      }
     },
     "11174ce6552344e784697961f8186f91": {
      "model_module": "jupyter-js-widgets",
      "model_module_version": "~2.1.4",
      "model_name": "LayoutModel",
      "state": {
       "_model_module_version": "~2.1.4",
       "_view_module_version": "~2.1.4"
      }
     },
     "158255515d0c4f818af2aee8aa5aeb16": {
      "model_module": "jupyter-js-widgets",
      "model_module_version": "~2.1.4",
      "model_name": "LayoutModel",
      "state": {
       "_model_module_version": "~2.1.4",
       "_view_module_version": "~2.1.4"
      }
     },
     "167edc7bea084617901c01b28739e810": {
      "model_module": "jupyter-js-widgets",
      "model_module_version": "~2.1.4",
      "model_name": "FloatSliderModel",
      "state": {
       "_model_module_version": "~2.1.4",
       "_view_module_version": "~2.1.4",
       "description": "noise_magnitude",
       "layout": "IPY_MODEL_0322f6967e024ef7b4dca189b260a544",
       "max": 1,
       "step": 0.05
      }
     },
     "18ae19b5a9144e44a15115fe58864216": {
      "model_module": "jupyter-js-widgets",
      "model_module_version": "~2.1.4",
      "model_name": "LayoutModel",
      "state": {
       "_model_module_version": "~2.1.4",
       "_view_module_version": "~2.1.4"
      }
     },
     "1eb19033076b43958ea2697c68c76dc7": {
      "model_module": "jupyter-js-widgets",
      "model_module_version": "~2.1.4",
      "model_name": "OutputModel",
      "state": {
       "_dom_classes": [],
       "_model_module": "jupyter-js-widgets",
       "_model_module_version": "~2.1.4",
       "_view_module": "jupyter-js-widgets",
       "_view_module_version": "~2.1.4",
       "layout": "IPY_MODEL_995cd5e49d3f47c2a06b5d08fc37f8b5",
       "msg_throttle": 1
      }
     },
     "20a2938b91244d7f825bcf9fb7e78700": {
      "model_module": "jupyter-js-widgets",
      "model_module_version": "~2.1.4",
      "model_name": "FloatSliderModel",
      "state": {
       "_model_module_version": "~2.1.4",
       "_view_module_version": "~2.1.4",
       "description": "noise_magnitude",
       "layout": "IPY_MODEL_538220d5996b440e99754decc552ac7c",
       "max": 10,
       "step": 0.1,
       "value": 2
      }
     },
     "228a28bcbdff48f4a96f9d13924f2d9b": {
      "model_module": "jupyter-js-widgets",
      "model_module_version": "~2.1.4",
      "model_name": "VBoxModel",
      "state": {
       "_dom_classes": [
        "widget-interact"
       ],
       "_model_module_version": "~2.1.4",
       "_view_module_version": "~2.1.4",
       "children": [
        "IPY_MODEL_35516fae0dd1490781b875a67f1da7bd",
        "IPY_MODEL_dfb72f504dfa40f88a0dc3113241d17d",
        "IPY_MODEL_c43dabcb611845d6877cd469d058001c",
        "IPY_MODEL_4101ef4aa56e4b41b9f67820887f6184"
       ],
       "layout": "IPY_MODEL_5f788198b7d440ebb2c308b1506bd43f"
      }
     },
     "2b3de6b64d74429cab9ba44034756a5b": {
      "model_module": "jupyter-js-widgets",
      "model_module_version": "~2.1.4",
      "model_name": "FloatSliderModel",
      "state": {
       "_model_module_version": "~2.1.4",
       "_view_module_version": "~2.1.4",
       "description": "beta_0",
       "layout": "IPY_MODEL_7fa1f514ecd947d99676914cf79100e0",
       "max": 10,
       "min": -1,
       "step": 0.1
      }
     },
     "2bd468c5f04d4e7f9d97a708de3b3109": {
      "model_module": "jupyter-js-widgets",
      "model_module_version": "~2.1.4",
      "model_name": "LayoutModel",
      "state": {
       "_model_module_version": "~2.1.4",
       "_view_module_version": "~2.1.4"
      }
     },
     "2beaf37775cb4a8786c7a7cdf8e61c31": {
      "model_module": "jupyter-js-widgets",
      "model_module_version": "~2.1.4",
      "model_name": "FloatSliderModel",
      "state": {
       "_model_module_version": "~2.1.4",
       "_view_module_version": "~2.1.4",
       "description": "noise_magnitude",
       "layout": "IPY_MODEL_bdc2197fcd864bff98e80f92075d4778",
       "max": 1,
       "step": 0.05,
       "value": 0.9
      }
     },
     "2c4ce1fd07764d5e8a9d524ac7591dde": {
      "model_module": "jupyter-js-widgets",
      "model_module_version": "~2.1.4",
      "model_name": "VBoxModel",
      "state": {
       "_dom_classes": [
        "widget-interact"
       ],
       "_model_module_version": "~2.1.4",
       "_view_module_version": "~2.1.4",
       "children": [
        "IPY_MODEL_cbeba2cefc56494fbb18f87e1626ccc7",
        "IPY_MODEL_b17cda3e918e48dea54f884266e1a84c",
        "IPY_MODEL_541417bc63734128902940d85176029b",
        "IPY_MODEL_e4dd777913194c1a88de171eb695a1e0"
       ],
       "layout": "IPY_MODEL_fe836d8c33ac4039b5440a2491f2595a"
      }
     },
     "2e26c8bec14a4563907447da7735310e": {
      "model_module": "jupyter-js-widgets",
      "model_module_version": "~2.1.4",
      "model_name": "VBoxModel",
      "state": {
       "_dom_classes": [
        "widget-interact"
       ],
       "_model_module_version": "~2.1.4",
       "_view_module_version": "~2.1.4",
       "children": [
        "IPY_MODEL_08fb1071ff8040f8a703b2d025d4d580",
        "IPY_MODEL_c6e5259f26f54400b20519804f41e006",
        "IPY_MODEL_ac40729025824bd0984a4551e13af37c",
        "IPY_MODEL_d9ae69a609424ccdbc26312ec5bdd865"
       ],
       "layout": "IPY_MODEL_8b9cbedec8af4f9aa2df96fbfdb6ef68"
      }
     },
     "2ebde7c622d944c88044870556706f4e": {
      "model_module": "jupyter-js-widgets",
      "model_module_version": "~2.1.4",
      "model_name": "LayoutModel",
      "state": {
       "_model_module_version": "~2.1.4",
       "_view_module_version": "~2.1.4"
      }
     },
     "3068cfc3feff4943960e35b0ad1d4712": {
      "model_module": "jupyter-js-widgets",
      "model_module_version": "~2.1.4",
      "model_name": "LayoutModel",
      "state": {
       "_model_module_version": "~2.1.4",
       "_view_module_version": "~2.1.4"
      }
     },
     "34adfc342cb04b6496c50bb2c56b9378": {
      "model_module": "jupyter-js-widgets",
      "model_module_version": "~2.1.4",
      "model_name": "LayoutModel",
      "state": {
       "_model_module_version": "~2.1.4",
       "_view_module_version": "~2.1.4"
      }
     },
     "35516fae0dd1490781b875a67f1da7bd": {
      "model_module": "jupyter-js-widgets",
      "model_module_version": "~2.1.4",
      "model_name": "FloatSliderModel",
      "state": {
       "_model_module_version": "~2.1.4",
       "_view_module_version": "~2.1.4",
       "description": "beta_0",
       "layout": "IPY_MODEL_dccc1554a1b94b7aa56e533ffbee6851",
       "max": 2,
       "min": -2,
       "step": 0.1
      }
     },
     "385debe194d74336b6ae6c38703a62f5": {
      "model_module": "jupyter-js-widgets",
      "model_module_version": "~2.1.4",
      "model_name": "LayoutModel",
      "state": {
       "_model_module_version": "~2.1.4",
       "_view_module_version": "~2.1.4"
      }
     },
     "390f973d2df24fe5915e6689f848afac": {
      "model_module": "jupyter-js-widgets",
      "model_module_version": "~2.1.4",
      "model_name": "LayoutModel",
      "state": {
       "_model_module_version": "~2.1.4",
       "_view_module_version": "~2.1.4"
      }
     },
     "396c86e97d9a4da38730929484c86171": {
      "model_module": "jupyter-js-widgets",
      "model_module_version": "~2.1.4",
      "model_name": "FloatSliderModel",
      "state": {
       "_model_module_version": "~2.1.4",
       "_view_module_version": "~2.1.4",
       "description": "noise_magnitude",
       "layout": "IPY_MODEL_b8d0e408812c43149bc3287d18f92b4a",
       "max": 1,
       "step": 0.05
      }
     },
     "3c5209d6343c463a8ebb14a4da672056": {
      "model_module": "jupyter-js-widgets",
      "model_module_version": "~2.1.4",
      "model_name": "OutputModel",
      "state": {
       "_dom_classes": [],
       "_model_module": "jupyter-js-widgets",
       "_model_module_version": "~2.1.4",
       "_view_module": "jupyter-js-widgets",
       "_view_module_version": "~2.1.4",
       "layout": "IPY_MODEL_d078e9f7b3f7491a92f40562d97ee862",
       "msg_throttle": 1
      }
     },
     "3c61565da6ec4cd7ae6af64fe7f80b97": {
      "model_module": "jupyter-js-widgets",
      "model_module_version": "~2.1.4",
      "model_name": "LayoutModel",
      "state": {
       "_model_module_version": "~2.1.4",
       "_view_module_version": "~2.1.4"
      }
     },
     "3cdc9f65ed4c40fe987f8b85b1d81344": {
      "model_module": "jupyter-js-widgets",
      "model_module_version": "~2.1.4",
      "model_name": "LayoutModel",
      "state": {
       "_model_module_version": "~2.1.4",
       "_view_module_version": "~2.1.4"
      }
     },
     "4101ef4aa56e4b41b9f67820887f6184": {
      "model_module": "jupyter-js-widgets",
      "model_module_version": "~2.1.4",
      "model_name": "OutputModel",
      "state": {
       "_dom_classes": [],
       "_model_module": "jupyter-js-widgets",
       "_model_module_version": "~2.1.4",
       "_view_module": "jupyter-js-widgets",
       "_view_module_version": "~2.1.4",
       "layout": "IPY_MODEL_c0915387e02644de8a362337bb1c8a52",
       "msg_throttle": 1
      }
     },
     "44476c39be2c4ee4a2eac538f28ffaa9": {
      "model_module": "jupyter-js-widgets",
      "model_module_version": "~2.1.4",
      "model_name": "FloatSliderModel",
      "state": {
       "_model_module_version": "~2.1.4",
       "_view_module_version": "~2.1.4",
       "description": "beta_1",
       "layout": "IPY_MODEL_e84e8d05f42c41c4baa9282bfb5b5dac",
       "max": 5,
       "step": 0.1,
       "value": 2
      }
     },
     "475877657c194c79bf791ef249fc6206": {
      "model_module": "jupyter-js-widgets",
      "model_module_version": "~2.1.4",
      "model_name": "LayoutModel",
      "state": {
       "_model_module_version": "~2.1.4",
       "_view_module_version": "~2.1.4"
      }
     },
     "4783938b45c04f7f8444891c7a5f5f60": {
      "model_module": "jupyter-js-widgets",
      "model_module_version": "~2.1.4",
      "model_name": "FloatSliderModel",
      "state": {
       "_model_module_version": "~2.1.4",
       "_view_module_version": "~2.1.4",
       "description": "beta_0",
       "layout": "IPY_MODEL_d6b20378b9834577baad8e026e447c74",
       "max": 2,
       "min": -2,
       "step": 0.1,
       "value": 0.1
      }
     },
     "4b25867982e946079426556a682e2d4a": {
      "model_module": "jupyter-js-widgets",
      "model_module_version": "~2.1.4",
      "model_name": "FloatSliderModel",
      "state": {
       "_model_module_version": "~2.1.4",
       "_view_module_version": "~2.1.4",
       "description": "beta_0",
       "layout": "IPY_MODEL_f0718bf367ff4729a90be4fd24bb4386",
       "max": 10,
       "min": -1,
       "step": 0.1
      }
     },
     "4b44768d5c0145ab9a6a2214c00a6af0": {
      "model_module": "jupyter-js-widgets",
      "model_module_version": "~2.1.4",
      "model_name": "LayoutModel",
      "state": {
       "_model_module_version": "~2.1.4",
       "_view_module_version": "~2.1.4"
      }
     },
     "4c102ec05d48474db93caf3fd4e0e3eb": {
      "model_module": "jupyter-js-widgets",
      "model_module_version": "~2.1.4",
      "model_name": "LayoutModel",
      "state": {
       "_model_module_version": "~2.1.4",
       "_view_module_version": "~2.1.4"
      }
     },
     "4d67074d5ae047f6a3370f5fefe9c681": {
      "model_module": "jupyter-js-widgets",
      "model_module_version": "~2.1.4",
      "model_name": "LayoutModel",
      "state": {
       "_model_module_version": "~2.1.4",
       "_view_module_version": "~2.1.4"
      }
     },
     "4e782642631e491fb615517cf2958b0c": {
      "model_module": "jupyter-js-widgets",
      "model_module_version": "~2.1.4",
      "model_name": "FloatSliderModel",
      "state": {
       "_model_module_version": "~2.1.4",
       "_view_module_version": "~2.1.4",
       "description": "noise_magnitude",
       "layout": "IPY_MODEL_d6ad6b8f0f0648fcbe64a4d1f4646828",
       "max": 10,
       "step": 0.1,
       "value": 5
      }
     },
     "538220d5996b440e99754decc552ac7c": {
      "model_module": "jupyter-js-widgets",
      "model_module_version": "~2.1.4",
      "model_name": "LayoutModel",
      "state": {
       "_model_module_version": "~2.1.4",
       "_view_module_version": "~2.1.4"
      }
     },
     "538b6107d32b433a81731498148c65b1": {
      "model_module": "jupyter-js-widgets",
      "model_module_version": "~2.1.4",
      "model_name": "LayoutModel",
      "state": {
       "_model_module_version": "~2.1.4",
       "_view_module_version": "~2.1.4"
      }
     },
     "541417bc63734128902940d85176029b": {
      "model_module": "jupyter-js-widgets",
      "model_module_version": "~2.1.4",
      "model_name": "FloatSliderModel",
      "state": {
       "_model_module_version": "~2.1.4",
       "_view_module_version": "~2.1.4",
       "description": "noise_magnitude",
       "layout": "IPY_MODEL_c4d7c9127f2e43bcac3949ad8d150d41",
       "max": 1,
       "step": 0.05,
       "value": 0.6
      }
     },
     "560dd1c7340f4d32a0096684c5859cfe": {
      "model_module": "jupyter-js-widgets",
      "model_module_version": "~2.1.4",
      "model_name": "FloatSliderModel",
      "state": {
       "_model_module_version": "~2.1.4",
       "_view_module_version": "~2.1.4",
       "description": "noise_magnitude",
       "layout": "IPY_MODEL_5e15e361bb1e4031a2582131e089610f",
       "max": 10,
       "step": 0.1,
       "value": 2.5
      }
     },
     "570458a1809a4a13817a4c5d5e2abf32": {
      "model_module": "jupyter-js-widgets",
      "model_module_version": "~2.1.4",
      "model_name": "FloatSliderModel",
      "state": {
       "_model_module_version": "~2.1.4",
       "_view_module_version": "~2.1.4",
       "description": "beta_1",
       "layout": "IPY_MODEL_2ebde7c622d944c88044870556706f4e",
       "max": 10,
       "min": -1,
       "step": 0.1
      }
     },
     "5e15e361bb1e4031a2582131e089610f": {
      "model_module": "jupyter-js-widgets",
      "model_module_version": "~2.1.4",
      "model_name": "LayoutModel",
      "state": {
       "_model_module_version": "~2.1.4",
       "_view_module_version": "~2.1.4"
      }
     },
     "5f788198b7d440ebb2c308b1506bd43f": {
      "model_module": "jupyter-js-widgets",
      "model_module_version": "~2.1.4",
      "model_name": "LayoutModel",
      "state": {
       "_model_module_version": "~2.1.4",
       "_view_module_version": "~2.1.4"
      }
     },
     "608b8d3f79314c1791cbd2af27daadf0": {
      "model_module": "jupyter-js-widgets",
      "model_module_version": "~2.1.4",
      "model_name": "LayoutModel",
      "state": {
       "_model_module_version": "~2.1.4",
       "_view_module_version": "~2.1.4"
      }
     },
     "627cd8515b5f47d3b3d1eea448a4925f": {
      "model_module": "jupyter-js-widgets",
      "model_module_version": "~2.1.4",
      "model_name": "LayoutModel",
      "state": {
       "_model_module_version": "~2.1.4",
       "_view_module_version": "~2.1.4"
      }
     },
     "6323658cabfe4f99a27d34c57a752cca": {
      "model_module": "jupyter-js-widgets",
      "model_module_version": "~2.1.4",
      "model_name": "FloatSliderModel",
      "state": {
       "_model_module_version": "~2.1.4",
       "_view_module_version": "~2.1.4",
       "description": "beta_0",
       "layout": "IPY_MODEL_18ae19b5a9144e44a15115fe58864216",
       "max": 2,
       "min": -2,
       "step": 0.1,
       "value": -0.8
      }
     },
     "63b396e550ca406c80757a60462e01e1": {
      "model_module": "jupyter-js-widgets",
      "model_module_version": "~2.1.4",
      "model_name": "VBoxModel",
      "state": {
       "_dom_classes": [
        "widget-interact"
       ],
       "_model_module_version": "~2.1.4",
       "_view_module_version": "~2.1.4",
       "children": [
        "IPY_MODEL_d85b4341960e4f8486298ef4aa58d710",
        "IPY_MODEL_dac4cc6b5296451fb2e95d098566f547",
        "IPY_MODEL_75d7a2c79eb54979a7784e926cbd5ed0",
        "IPY_MODEL_d4c899e4ced64f209a90799f85062119"
       ],
       "layout": "IPY_MODEL_4b44768d5c0145ab9a6a2214c00a6af0"
      }
     },
     "63cfc22284a543909dcf16fb49343e52": {
      "model_module": "jupyter-js-widgets",
      "model_module_version": "~2.1.4",
      "model_name": "LayoutModel",
      "state": {
       "_model_module_version": "~2.1.4",
       "_view_module_version": "~2.1.4"
      }
     },
     "649b6dd70749495ebd5fade1f931699d": {
      "model_module": "jupyter-js-widgets",
      "model_module_version": "~2.1.4",
      "model_name": "LayoutModel",
      "state": {
       "_model_module_version": "~2.1.4",
       "_view_module_version": "~2.1.4"
      }
     },
     "657c7b9c19ba417396bcf5a4a6a5044e": {
      "model_module": "jupyter-js-widgets",
      "model_module_version": "~2.1.4",
      "model_name": "LayoutModel",
      "state": {
       "_model_module_version": "~2.1.4",
       "_view_module_version": "~2.1.4"
      }
     },
     "6a2e0d5bb0df4defa2e51bf66dba0d29": {
      "model_module": "jupyter-js-widgets",
      "model_module_version": "~2.1.4",
      "model_name": "LayoutModel",
      "state": {
       "_model_module_version": "~2.1.4",
       "_view_module_version": "~2.1.4"
      }
     },
     "6af76e21343849109a532b61a3a28720": {
      "model_module": "jupyter-js-widgets",
      "model_module_version": "~2.1.4",
      "model_name": "LayoutModel",
      "state": {
       "_model_module_version": "~2.1.4",
       "_view_module_version": "~2.1.4"
      }
     },
     "6d3801c1cd074a43bd3964cdeb084983": {
      "model_module": "jupyter-js-widgets",
      "model_module_version": "~2.1.4",
      "model_name": "VBoxModel",
      "state": {
       "_dom_classes": [
        "widget-interact"
       ],
       "_model_module_version": "~2.1.4",
       "_view_module_version": "~2.1.4",
       "children": [
        "IPY_MODEL_6323658cabfe4f99a27d34c57a752cca",
        "IPY_MODEL_033f284524964035a6658129ecc9a59f",
        "IPY_MODEL_a3b0220e9e7544fa98491ffe25cc4384",
        "IPY_MODEL_0482bccb570847ef922d7dcbc7acd55e"
       ],
       "layout": "IPY_MODEL_63cfc22284a543909dcf16fb49343e52"
      }
     },
     "744362ce33a247b38262f5363d0c87cd": {
      "model_module": "jupyter-js-widgets",
      "model_module_version": "~2.1.4",
      "model_name": "OutputModel",
      "state": {
       "_dom_classes": [],
       "_model_module": "jupyter-js-widgets",
       "_model_module_version": "~2.1.4",
       "_view_module": "jupyter-js-widgets",
       "_view_module_version": "~2.1.4",
       "layout": "IPY_MODEL_f8396954275b4faba4cc98ba6ca25411",
       "msg_throttle": 1
      }
     },
     "7527f0295e9242abbb0b1829110705de": {
      "model_module": "jupyter-js-widgets",
      "model_module_version": "~2.1.4",
      "model_name": "VBoxModel",
      "state": {
       "_dom_classes": [
        "widget-interact"
       ],
       "_model_module_version": "~2.1.4",
       "_view_module_version": "~2.1.4",
       "children": [
        "IPY_MODEL_ad704676bc674b88bf6c0aafb46a9266",
        "IPY_MODEL_ba35cc6a53ee41ef82c6c50ec84295b7",
        "IPY_MODEL_e6d240e227b145e385d8625da7ead2d5",
        "IPY_MODEL_75daa67afc4b42bc972a8a6da22092de"
       ],
       "layout": "IPY_MODEL_818a3cf892ba4162bb2412d6a1470569"
      }
     },
     "75d7a2c79eb54979a7784e926cbd5ed0": {
      "model_module": "jupyter-js-widgets",
      "model_module_version": "~2.1.4",
      "model_name": "FloatSliderModel",
      "state": {
       "_model_module_version": "~2.1.4",
       "_view_module_version": "~2.1.4",
       "description": "noise_magnitude",
       "layout": "IPY_MODEL_538b6107d32b433a81731498148c65b1",
       "max": 10,
       "step": 0.1,
       "value": 5
      }
     },
     "75daa67afc4b42bc972a8a6da22092de": {
      "model_module": "jupyter-js-widgets",
      "model_module_version": "~2.1.4",
      "model_name": "OutputModel",
      "state": {
       "_dom_classes": [],
       "_model_module": "jupyter-js-widgets",
       "_model_module_version": "~2.1.4",
       "_view_module": "jupyter-js-widgets",
       "_view_module_version": "~2.1.4",
       "layout": "IPY_MODEL_ecc07aa2ee7d45ae82c2b1bc628a37a0",
       "msg_throttle": 1
      }
     },
     "7fa1f514ecd947d99676914cf79100e0": {
      "model_module": "jupyter-js-widgets",
      "model_module_version": "~2.1.4",
      "model_name": "LayoutModel",
      "state": {
       "_model_module_version": "~2.1.4",
       "_view_module_version": "~2.1.4"
      }
     },
     "818a3cf892ba4162bb2412d6a1470569": {
      "model_module": "jupyter-js-widgets",
      "model_module_version": "~2.1.4",
      "model_name": "LayoutModel",
      "state": {
       "_model_module_version": "~2.1.4",
       "_view_module_version": "~2.1.4"
      }
     },
     "8259726d791f4a5785a3953d718abf6f": {
      "model_module": "jupyter-js-widgets",
      "model_module_version": "~2.1.4",
      "model_name": "OutputModel",
      "state": {
       "_dom_classes": [],
       "_model_module": "jupyter-js-widgets",
       "_model_module_version": "~2.1.4",
       "_view_module": "jupyter-js-widgets",
       "_view_module_version": "~2.1.4",
       "layout": "IPY_MODEL_a139452af81a4aa6b41986a45a01fa69",
       "msg_throttle": 1
      }
     },
     "82d8c9e74a524a70be14582f318aff0d": {
      "model_module": "jupyter-js-widgets",
      "model_module_version": "~2.1.4",
      "model_name": "FloatSliderModel",
      "state": {
       "_model_module_version": "~2.1.4",
       "_view_module_version": "~2.1.4",
       "description": "beta_1",
       "layout": "IPY_MODEL_e3ebf12bbf834efe8425201985011161",
       "max": 5,
       "step": 0.1,
       "value": 2
      }
     },
     "848786a450aa40b69ad79e758b04e17f": {
      "model_module": "jupyter-js-widgets",
      "model_module_version": "~2.1.4",
      "model_name": "OutputModel",
      "state": {
       "_dom_classes": [],
       "_model_module": "jupyter-js-widgets",
       "_model_module_version": "~2.1.4",
       "_view_module": "jupyter-js-widgets",
       "_view_module_version": "~2.1.4",
       "layout": "IPY_MODEL_6a2e0d5bb0df4defa2e51bf66dba0d29",
       "msg_throttle": 1
      }
     },
     "851881871da040b5877312de34ae89d4": {
      "model_module": "jupyter-js-widgets",
      "model_module_version": "~2.1.4",
      "model_name": "FloatSliderModel",
      "state": {
       "_model_module_version": "~2.1.4",
       "_view_module_version": "~2.1.4",
       "description": "beta_0",
       "layout": "IPY_MODEL_3068cfc3feff4943960e35b0ad1d4712",
       "max": 2,
       "min": -2,
       "step": 0.1
      }
     },
     "86e2b74b1ade44ecae0501fb5c3abf94": {
      "model_module": "jupyter-js-widgets",
      "model_module_version": "~2.1.4",
      "model_name": "LayoutModel",
      "state": {
       "_model_module_version": "~2.1.4",
       "_view_module_version": "~2.1.4"
      }
     },
     "8a22bc6cadcb4898aece1a9e1d5b8efa": {
      "model_module": "jupyter-js-widgets",
      "model_module_version": "~2.1.4",
      "model_name": "VBoxModel",
      "state": {
       "_dom_classes": [
        "widget-interact"
       ],
       "_model_module_version": "~2.1.4",
       "_view_module_version": "~2.1.4",
       "children": [
        "IPY_MODEL_4783938b45c04f7f8444891c7a5f5f60",
        "IPY_MODEL_ca6bd5c0bb31438690c7260bb81a6a1a",
        "IPY_MODEL_2beaf37775cb4a8786c7a7cdf8e61c31",
        "IPY_MODEL_744362ce33a247b38262f5363d0c87cd"
       ],
       "layout": "IPY_MODEL_a941c110fc0b47809c64b2de1acb8ee5"
      }
     },
     "8a2fb70d460344f2bb8886ec26560160": {
      "model_module": "jupyter-js-widgets",
      "model_module_version": "~2.1.4",
      "model_name": "VBoxModel",
      "state": {
       "_dom_classes": [
        "widget-interact"
       ],
       "_model_module_version": "~2.1.4",
       "_view_module_version": "~2.1.4",
       "children": [
        "IPY_MODEL_851881871da040b5877312de34ae89d4",
        "IPY_MODEL_d4a81afcf8c04ec980949df47525f326",
        "IPY_MODEL_a9e8434f285f4256bfb66a8825a8e8bf",
        "IPY_MODEL_1062a4d3c4a04a01817183a3b1244779"
       ],
       "layout": "IPY_MODEL_c6a9a15ee1ab418aa07ec16e4aa32c71"
      }
     },
     "8b9cbedec8af4f9aa2df96fbfdb6ef68": {
      "model_module": "jupyter-js-widgets",
      "model_module_version": "~2.1.4",
      "model_name": "LayoutModel",
      "state": {
       "_model_module_version": "~2.1.4",
       "_view_module_version": "~2.1.4"
      }
     },
     "8e0936d68cf549e59624bb7a5ed4e451": {
      "model_module": "jupyter-js-widgets",
      "model_module_version": "~2.1.4",
      "model_name": "LayoutModel",
      "state": {
       "_model_module_version": "~2.1.4",
       "_view_module_version": "~2.1.4"
      }
     },
     "8ff6dd16f7064438bffeee75d2b46f61": {
      "model_module": "jupyter-js-widgets",
      "model_module_version": "~2.1.4",
      "model_name": "FloatSliderModel",
      "state": {
       "_model_module_version": "~2.1.4",
       "_view_module_version": "~2.1.4",
       "description": "beta_1",
       "layout": "IPY_MODEL_d793fda77ed34425b54fc219633c2565",
       "max": 10,
       "min": -1,
       "step": 0.1
      }
     },
     "96d240dfe7344028944553f7e0ef4209": {
      "model_module": "jupyter-js-widgets",
      "model_module_version": "~2.1.4",
      "model_name": "OutputModel",
      "state": {
       "_dom_classes": [],
       "_model_module": "jupyter-js-widgets",
       "_model_module_version": "~2.1.4",
       "_view_module": "jupyter-js-widgets",
       "_view_module_version": "~2.1.4",
       "layout": "IPY_MODEL_2bd468c5f04d4e7f9d97a708de3b3109",
       "msg_throttle": 1
      }
     },
     "976c37e4c8d74f79b9686eb441174627": {
      "model_module": "jupyter-js-widgets",
      "model_module_version": "~2.1.4",
      "model_name": "FloatSliderModel",
      "state": {
       "_model_module_version": "~2.1.4",
       "_view_module_version": "~2.1.4",
       "description": "beta_0",
       "layout": "IPY_MODEL_fedda1ef0ebe4595a801de257753dc23",
       "max": 2,
       "min": -2,
       "step": 0.1
      }
     },
     "9905e4220af246048e690e01b22ef7b7": {
      "model_module": "jupyter-js-widgets",
      "model_module_version": "~2.1.4",
      "model_name": "LayoutModel",
      "state": {
       "_model_module_version": "~2.1.4",
       "_view_module_version": "~2.1.4"
      }
     },
     "9929de0ba65144ef962890c9df8bc759": {
      "model_module": "jupyter-js-widgets",
      "model_module_version": "~2.1.4",
      "model_name": "LayoutModel",
      "state": {
       "_model_module_version": "~2.1.4",
       "_view_module_version": "~2.1.4"
      }
     },
     "995cd5e49d3f47c2a06b5d08fc37f8b5": {
      "model_module": "jupyter-js-widgets",
      "model_module_version": "~2.1.4",
      "model_name": "LayoutModel",
      "state": {
       "_model_module_version": "~2.1.4",
       "_view_module_version": "~2.1.4"
      }
     },
     "9a1c8cef10e84af78d097dd5d8b2afa2": {
      "model_module": "jupyter-js-widgets",
      "model_module_version": "~2.1.4",
      "model_name": "VBoxModel",
      "state": {
       "_dom_classes": [
        "widget-interact"
       ],
       "_model_module_version": "~2.1.4",
       "_view_module_version": "~2.1.4",
       "children": [
        "IPY_MODEL_e84af37c0835467288288077e0d12702",
        "IPY_MODEL_ef2b9f1c1a2b4d769ae0cf1018523cdd",
        "IPY_MODEL_167edc7bea084617901c01b28739e810",
        "IPY_MODEL_a59ae0dbbb41441c9b9b90888d98c00d"
       ],
       "layout": "IPY_MODEL_00b481e229d744749febd3a6aa0fb669"
      }
     },
     "9e473a075a634cc8a6aa261148ac8c80": {
      "model_module": "jupyter-js-widgets",
      "model_module_version": "~2.1.4",
      "model_name": "LayoutModel",
      "state": {
       "_model_module_version": "~2.1.4",
       "_view_module_version": "~2.1.4"
      }
     },
     "a139452af81a4aa6b41986a45a01fa69": {
      "model_module": "jupyter-js-widgets",
      "model_module_version": "~2.1.4",
      "model_name": "LayoutModel",
      "state": {
       "_model_module_version": "~2.1.4",
       "_view_module_version": "~2.1.4"
      }
     },
     "a2e081d7e252413f8e67f6ad36e3f2da": {
      "model_module": "jupyter-js-widgets",
      "model_module_version": "~2.1.4",
      "model_name": "OutputModel",
      "state": {
       "_dom_classes": [],
       "_model_module": "jupyter-js-widgets",
       "_model_module_version": "~2.1.4",
       "_view_module": "jupyter-js-widgets",
       "_view_module_version": "~2.1.4",
       "layout": "IPY_MODEL_00f46c4166b04406909e6534a1725ccd",
       "msg_throttle": 1
      }
     },
     "a3b0220e9e7544fa98491ffe25cc4384": {
      "model_module": "jupyter-js-widgets",
      "model_module_version": "~2.1.4",
      "model_name": "FloatSliderModel",
      "state": {
       "_model_module_version": "~2.1.4",
       "_view_module_version": "~2.1.4",
       "description": "noise_magnitude",
       "layout": "IPY_MODEL_385debe194d74336b6ae6c38703a62f5",
       "max": 1,
       "step": 0.05,
       "value": 0.25
      }
     },
     "a59ae0dbbb41441c9b9b90888d98c00d": {
      "model_module": "jupyter-js-widgets",
      "model_module_version": "~2.1.4",
      "model_name": "OutputModel",
      "state": {
       "_dom_classes": [],
       "_model_module": "jupyter-js-widgets",
       "_model_module_version": "~2.1.4",
       "_view_module": "jupyter-js-widgets",
       "_view_module_version": "~2.1.4",
       "layout": "IPY_MODEL_d331f2af9703463e89abdb6f6b71061f",
       "msg_throttle": 1
      }
     },
     "a76ea01429324e0d92ff9dea7b35e654": {
      "model_module": "jupyter-js-widgets",
      "model_module_version": "~2.1.4",
      "model_name": "FloatSliderModel",
      "state": {
       "_model_module_version": "~2.1.4",
       "_view_module_version": "~2.1.4",
       "description": "beta_1",
       "layout": "IPY_MODEL_047b06df85ac47419b18cdc21f5c7960",
       "max": 10,
       "min": -1,
       "step": 0.1
      }
     },
     "a941c110fc0b47809c64b2de1acb8ee5": {
      "model_module": "jupyter-js-widgets",
      "model_module_version": "~2.1.4",
      "model_name": "LayoutModel",
      "state": {
       "_model_module_version": "~2.1.4",
       "_view_module_version": "~2.1.4"
      }
     },
     "a9aae401a30d472897a02fca21c4763d": {
      "model_module": "jupyter-js-widgets",
      "model_module_version": "~2.1.4",
      "model_name": "FloatSliderModel",
      "state": {
       "_model_module_version": "~2.1.4",
       "_view_module_version": "~2.1.4",
       "description": "beta_0",
       "layout": "IPY_MODEL_fdb441c9f53c4c848d76e3b5329e8121",
       "max": 10,
       "min": -1,
       "step": 0.1
      }
     },
     "a9e8434f285f4256bfb66a8825a8e8bf": {
      "model_module": "jupyter-js-widgets",
      "model_module_version": "~2.1.4",
      "model_name": "FloatSliderModel",
      "state": {
       "_model_module_version": "~2.1.4",
       "_view_module_version": "~2.1.4",
       "description": "noise_magnitude",
       "layout": "IPY_MODEL_657c7b9c19ba417396bcf5a4a6a5044e",
       "max": 1,
       "step": 0.05
      }
     },
     "aa29fd56c58d4d34ba1687fe52620d34": {
      "model_module": "jupyter-js-widgets",
      "model_module_version": "~2.1.4",
      "model_name": "LayoutModel",
      "state": {
       "_model_module_version": "~2.1.4",
       "_view_module_version": "~2.1.4"
      }
     },
     "aa777be3ddba4282a4d54fd908d3f448": {
      "model_module": "jupyter-js-widgets",
      "model_module_version": "~2.1.4",
      "model_name": "VBoxModel",
      "state": {
       "_dom_classes": [
        "widget-interact"
       ],
       "_model_module_version": "~2.1.4",
       "_view_module_version": "~2.1.4",
       "children": [
        "IPY_MODEL_976c37e4c8d74f79b9686eb441174627",
        "IPY_MODEL_82d8c9e74a524a70be14582f318aff0d",
        "IPY_MODEL_06a454d60f8f4f8c9fd10c96e5858bf4",
        "IPY_MODEL_96d240dfe7344028944553f7e0ef4209"
       ],
       "layout": "IPY_MODEL_d5033406ecad4cd89892ab505e8221b5"
      }
     },
     "ac40729025824bd0984a4551e13af37c": {
      "model_module": "jupyter-js-widgets",
      "model_module_version": "~2.1.4",
      "model_name": "FloatSliderModel",
      "state": {
       "_model_module_version": "~2.1.4",
       "_view_module_version": "~2.1.4",
       "description": "noise_magnitude",
       "layout": "IPY_MODEL_390f973d2df24fe5915e6689f848afac",
       "max": 5,
       "step": 0.1,
       "value": 2
      }
     },
     "ad51f983dff347c28d59f332389e8e76": {
      "model_module": "jupyter-js-widgets",
      "model_module_version": "~2.1.4",
      "model_name": "LayoutModel",
      "state": {
       "_model_module_version": "~2.1.4",
       "_view_module_version": "~2.1.4"
      }
     },
     "ad704676bc674b88bf6c0aafb46a9266": {
      "model_module": "jupyter-js-widgets",
      "model_module_version": "~2.1.4",
      "model_name": "FloatSliderModel",
      "state": {
       "_model_module_version": "~2.1.4",
       "_view_module_version": "~2.1.4",
       "description": "beta_0",
       "layout": "IPY_MODEL_f8ed65346c05483ea4d464d504a13352",
       "max": 10,
       "min": -1,
       "step": 0.1,
       "value": 4
      }
     },
     "adb0e15b24c14108bcc6d52320035c07": {
      "model_module": "jupyter-js-widgets",
      "model_module_version": "~2.1.4",
      "model_name": "VBoxModel",
      "state": {
       "_dom_classes": [
        "widget-interact"
       ],
       "_model_module_version": "~2.1.4",
       "_view_module_version": "~2.1.4",
       "children": [
        "IPY_MODEL_b6a8ac6711304851ab62e686f13c5ff2",
        "IPY_MODEL_0161e84581234ffe9c5b33b3e3e46903",
        "IPY_MODEL_396c86e97d9a4da38730929484c86171",
        "IPY_MODEL_3c5209d6343c463a8ebb14a4da672056"
       ],
       "layout": "IPY_MODEL_627cd8515b5f47d3b3d1eea448a4925f"
      }
     },
     "b17cda3e918e48dea54f884266e1a84c": {
      "model_module": "jupyter-js-widgets",
      "model_module_version": "~2.1.4",
      "model_name": "FloatSliderModel",
      "state": {
       "_model_module_version": "~2.1.4",
       "_view_module_version": "~2.1.4",
       "description": "beta_1",
       "layout": "IPY_MODEL_c1eda97308d84064b70a7ab1727aaee2",
       "max": 5,
       "step": 0.1,
       "value": 2
      }
     },
     "b50dad96ca5e462f8cd0ff1e84aab787": {
      "model_module": "jupyter-js-widgets",
      "model_module_version": "~2.1.4",
      "model_name": "LayoutModel",
      "state": {
       "_model_module_version": "~2.1.4",
       "_view_module_version": "~2.1.4"
      }
     },
     "b58be1a7bddf4f00b1b7df63229ff0dd": {
      "model_module": "jupyter-js-widgets",
      "model_module_version": "~2.1.4",
      "model_name": "LayoutModel",
      "state": {
       "_model_module_version": "~2.1.4",
       "_view_module_version": "~2.1.4"
      }
     },
     "b6a8ac6711304851ab62e686f13c5ff2": {
      "model_module": "jupyter-js-widgets",
      "model_module_version": "~2.1.4",
      "model_name": "FloatSliderModel",
      "state": {
       "_model_module_version": "~2.1.4",
       "_view_module_version": "~2.1.4",
       "description": "beta_0",
       "layout": "IPY_MODEL_ad51f983dff347c28d59f332389e8e76",
       "max": 2,
       "min": -2,
       "step": 0.1
      }
     },
     "b8d0e408812c43149bc3287d18f92b4a": {
      "model_module": "jupyter-js-widgets",
      "model_module_version": "~2.1.4",
      "model_name": "LayoutModel",
      "state": {
       "_model_module_version": "~2.1.4",
       "_view_module_version": "~2.1.4"
      }
     },
     "b952d97f4e304e2f911f76de21425b97": {
      "model_module": "jupyter-js-widgets",
      "model_module_version": "~2.1.4",
      "model_name": "LayoutModel",
      "state": {
       "_model_module_version": "~2.1.4",
       "_view_module_version": "~2.1.4"
      }
     },
     "ba35cc6a53ee41ef82c6c50ec84295b7": {
      "model_module": "jupyter-js-widgets",
      "model_module_version": "~2.1.4",
      "model_name": "FloatSliderModel",
      "state": {
       "_model_module_version": "~2.1.4",
       "_view_module_version": "~2.1.4",
       "description": "beta_1",
       "layout": "IPY_MODEL_11174ce6552344e784697961f8186f91",
       "max": 10,
       "min": -1,
       "step": 0.1,
       "value": 4
      }
     },
     "bd75868aae0442a68659bd8eac01c12c": {
      "model_module": "jupyter-js-widgets",
      "model_module_version": "~2.1.4",
      "model_name": "LayoutModel",
      "state": {
       "_model_module_version": "~2.1.4",
       "_view_module_version": "~2.1.4"
      }
     },
     "bdc2197fcd864bff98e80f92075d4778": {
      "model_module": "jupyter-js-widgets",
      "model_module_version": "~2.1.4",
      "model_name": "LayoutModel",
      "state": {
       "_model_module_version": "~2.1.4",
       "_view_module_version": "~2.1.4"
      }
     },
     "c0915387e02644de8a362337bb1c8a52": {
      "model_module": "jupyter-js-widgets",
      "model_module_version": "~2.1.4",
      "model_name": "LayoutModel",
      "state": {
       "_model_module_version": "~2.1.4",
       "_view_module_version": "~2.1.4"
      }
     },
     "c13f91722aca41b09c0fb39b714c03b4": {
      "model_module": "jupyter-js-widgets",
      "model_module_version": "~2.1.4",
      "model_name": "VBoxModel",
      "state": {
       "_dom_classes": [
        "widget-interact"
       ],
       "_model_module_version": "~2.1.4",
       "_view_module_version": "~2.1.4",
       "children": [
        "IPY_MODEL_4b25867982e946079426556a682e2d4a",
        "IPY_MODEL_0369e03f0fb741adac0b5584444a9b4c",
        "IPY_MODEL_d09b1c1703e5477d8fe9facd81ece4f9",
        "IPY_MODEL_a2e081d7e252413f8e67f6ad36e3f2da"
       ],
       "layout": "IPY_MODEL_4c102ec05d48474db93caf3fd4e0e3eb"
      }
     },
     "c16c4323e5344fba90822723d7383466": {
      "model_module": "jupyter-js-widgets",
      "model_module_version": "~2.1.4",
      "model_name": "OutputModel",
      "state": {
       "_dom_classes": [],
       "_model_module": "jupyter-js-widgets",
       "_model_module_version": "~2.1.4",
       "_view_module": "jupyter-js-widgets",
       "_view_module_version": "~2.1.4",
       "layout": "IPY_MODEL_3c61565da6ec4cd7ae6af64fe7f80b97",
       "msg_throttle": 1
      }
     },
     "c1eda97308d84064b70a7ab1727aaee2": {
      "model_module": "jupyter-js-widgets",
      "model_module_version": "~2.1.4",
      "model_name": "LayoutModel",
      "state": {
       "_model_module_version": "~2.1.4",
       "_view_module_version": "~2.1.4"
      }
     },
     "c43dabcb611845d6877cd469d058001c": {
      "model_module": "jupyter-js-widgets",
      "model_module_version": "~2.1.4",
      "model_name": "FloatSliderModel",
      "state": {
       "_model_module_version": "~2.1.4",
       "_view_module_version": "~2.1.4",
       "description": "noise_magnitude",
       "layout": "IPY_MODEL_aa29fd56c58d4d34ba1687fe52620d34",
       "max": 1,
       "step": 0.05
      }
     },
     "c4d7c9127f2e43bcac3949ad8d150d41": {
      "model_module": "jupyter-js-widgets",
      "model_module_version": "~2.1.4",
      "model_name": "LayoutModel",
      "state": {
       "_model_module_version": "~2.1.4",
       "_view_module_version": "~2.1.4"
      }
     },
     "c6a9a15ee1ab418aa07ec16e4aa32c71": {
      "model_module": "jupyter-js-widgets",
      "model_module_version": "~2.1.4",
      "model_name": "LayoutModel",
      "state": {
       "_model_module_version": "~2.1.4",
       "_view_module_version": "~2.1.4"
      }
     },
     "c6e5259f26f54400b20519804f41e006": {
      "model_module": "jupyter-js-widgets",
      "model_module_version": "~2.1.4",
      "model_name": "FloatSliderModel",
      "state": {
       "_model_module_version": "~2.1.4",
       "_view_module_version": "~2.1.4",
       "description": "beta_1",
       "layout": "IPY_MODEL_eb09aaf0faeb48999f3c4ff883420052",
       "max": 10,
       "min": -1,
       "step": 0.5,
       "value": 6.5
      }
     },
     "c978ad97893e48819629c0ba10c530df": {
      "model_module": "jupyter-js-widgets",
      "model_module_version": "~2.1.4",
      "model_name": "LayoutModel",
      "state": {
       "_model_module_version": "~2.1.4",
       "_view_module_version": "~2.1.4"
      }
     },
     "ca6bd5c0bb31438690c7260bb81a6a1a": {
      "model_module": "jupyter-js-widgets",
      "model_module_version": "~2.1.4",
      "model_name": "FloatSliderModel",
      "state": {
       "_model_module_version": "~2.1.4",
       "_view_module_version": "~2.1.4",
       "description": "beta_1",
       "layout": "IPY_MODEL_475877657c194c79bf791ef249fc6206",
       "max": 5,
       "step": 0.1,
       "value": 2
      }
     },
     "cbeba2cefc56494fbb18f87e1626ccc7": {
      "model_module": "jupyter-js-widgets",
      "model_module_version": "~2.1.4",
      "model_name": "FloatSliderModel",
      "state": {
       "_model_module_version": "~2.1.4",
       "_view_module_version": "~2.1.4",
       "description": "beta_0",
       "layout": "IPY_MODEL_10de2df68875455c90135a5a0c3fbe9d",
       "max": 2,
       "min": -2,
       "step": 0.1
      }
     },
     "ce0bb096acb54847b5a344a098425d23": {
      "model_module": "jupyter-js-widgets",
      "model_module_version": "~2.1.4",
      "model_name": "LayoutModel",
      "state": {
       "_model_module_version": "~2.1.4",
       "_view_module_version": "~2.1.4"
      }
     },
     "cfa673b64d5d4bd9b215e8438fe83d75": {
      "model_module": "jupyter-js-widgets",
      "model_module_version": "~2.1.4",
      "model_name": "LayoutModel",
      "state": {
       "_model_module_version": "~2.1.4",
       "_view_module_version": "~2.1.4"
      }
     },
     "d078e9f7b3f7491a92f40562d97ee862": {
      "model_module": "jupyter-js-widgets",
      "model_module_version": "~2.1.4",
      "model_name": "LayoutModel",
      "state": {
       "_model_module_version": "~2.1.4",
       "_view_module_version": "~2.1.4"
      }
     },
     "d09b1c1703e5477d8fe9facd81ece4f9": {
      "model_module": "jupyter-js-widgets",
      "model_module_version": "~2.1.4",
      "model_name": "FloatSliderModel",
      "state": {
       "_model_module_version": "~2.1.4",
       "_view_module_version": "~2.1.4",
       "description": "noise_magnitude",
       "layout": "IPY_MODEL_f9403bbfa67b400eaee5e58d7944f461",
       "max": 10,
       "step": 0.1,
       "value": 1
      }
     },
     "d331f2af9703463e89abdb6f6b71061f": {
      "model_module": "jupyter-js-widgets",
      "model_module_version": "~2.1.4",
      "model_name": "LayoutModel",
      "state": {
       "_model_module_version": "~2.1.4",
       "_view_module_version": "~2.1.4"
      }
     },
     "d4a81afcf8c04ec980949df47525f326": {
      "model_module": "jupyter-js-widgets",
      "model_module_version": "~2.1.4",
      "model_name": "FloatSliderModel",
      "state": {
       "_model_module_version": "~2.1.4",
       "_view_module_version": "~2.1.4",
       "description": "beta_1",
       "layout": "IPY_MODEL_3cdc9f65ed4c40fe987f8b85b1d81344",
       "max": 5,
       "step": 0.1,
       "value": 2
      }
     },
     "d4c899e4ced64f209a90799f85062119": {
      "model_module": "jupyter-js-widgets",
      "model_module_version": "~2.1.4",
      "model_name": "OutputModel",
      "state": {
       "_dom_classes": [],
       "_model_module": "jupyter-js-widgets",
       "_model_module_version": "~2.1.4",
       "_view_module": "jupyter-js-widgets",
       "_view_module_version": "~2.1.4",
       "layout": "IPY_MODEL_b50dad96ca5e462f8cd0ff1e84aab787",
       "msg_throttle": 1
      }
     },
     "d5033406ecad4cd89892ab505e8221b5": {
      "model_module": "jupyter-js-widgets",
      "model_module_version": "~2.1.4",
      "model_name": "LayoutModel",
      "state": {
       "_model_module_version": "~2.1.4",
       "_view_module_version": "~2.1.4"
      }
     },
     "d6ad6b8f0f0648fcbe64a4d1f4646828": {
      "model_module": "jupyter-js-widgets",
      "model_module_version": "~2.1.4",
      "model_name": "LayoutModel",
      "state": {
       "_model_module_version": "~2.1.4",
       "_view_module_version": "~2.1.4"
      }
     },
     "d6b20378b9834577baad8e026e447c74": {
      "model_module": "jupyter-js-widgets",
      "model_module_version": "~2.1.4",
      "model_name": "LayoutModel",
      "state": {
       "_model_module_version": "~2.1.4",
       "_view_module_version": "~2.1.4"
      }
     },
     "d793fda77ed34425b54fc219633c2565": {
      "model_module": "jupyter-js-widgets",
      "model_module_version": "~2.1.4",
      "model_name": "LayoutModel",
      "state": {
       "_model_module_version": "~2.1.4",
       "_view_module_version": "~2.1.4"
      }
     },
     "d85b4341960e4f8486298ef4aa58d710": {
      "model_module": "jupyter-js-widgets",
      "model_module_version": "~2.1.4",
      "model_name": "FloatSliderModel",
      "state": {
       "_model_module_version": "~2.1.4",
       "_view_module_version": "~2.1.4",
       "description": "beta_0",
       "layout": "IPY_MODEL_9905e4220af246048e690e01b22ef7b7",
       "max": 10,
       "min": -1,
       "step": 0.1,
       "value": 4
      }
     },
     "d9ae69a609424ccdbc26312ec5bdd865": {
      "model_module": "jupyter-js-widgets",
      "model_module_version": "~2.1.4",
      "model_name": "OutputModel",
      "state": {
       "_dom_classes": [],
       "_model_module": "jupyter-js-widgets",
       "_model_module_version": "~2.1.4",
       "_view_module": "jupyter-js-widgets",
       "_view_module_version": "~2.1.4",
       "layout": "IPY_MODEL_158255515d0c4f818af2aee8aa5aeb16",
       "msg_throttle": 1
      }
     },
     "da035b42f03d47eda981a237879e4605": {
      "model_module": "jupyter-js-widgets",
      "model_module_version": "~2.1.4",
      "model_name": "LayoutModel",
      "state": {
       "_model_module_version": "~2.1.4",
       "_view_module_version": "~2.1.4"
      }
     },
     "dac4cc6b5296451fb2e95d098566f547": {
      "model_module": "jupyter-js-widgets",
      "model_module_version": "~2.1.4",
      "model_name": "FloatSliderModel",
      "state": {
       "_model_module_version": "~2.1.4",
       "_view_module_version": "~2.1.4",
       "description": "beta_1",
       "layout": "IPY_MODEL_4d67074d5ae047f6a3370f5fefe9c681",
       "max": 10,
       "min": -1,
       "step": 0.1,
       "value": 4
      }
     },
     "dcc2868554634a50aa55d810ee82b3bf": {
      "model_module": "jupyter-js-widgets",
      "model_module_version": "~2.1.4",
      "model_name": "FloatSliderModel",
      "state": {
       "_model_module_version": "~2.1.4",
       "_view_module_version": "~2.1.4",
       "description": "noise_magnitude",
       "layout": "IPY_MODEL_ee159154f71b48beac2cc2d1b028bc55",
       "max": 1,
       "step": 0.05
      }
     },
     "dccc1554a1b94b7aa56e533ffbee6851": {
      "model_module": "jupyter-js-widgets",
      "model_module_version": "~2.1.4",
      "model_name": "LayoutModel",
      "state": {
       "_model_module_version": "~2.1.4",
       "_view_module_version": "~2.1.4"
      }
     },
     "defdc514bac54d7287691cafee288a63": {
      "model_module": "jupyter-js-widgets",
      "model_module_version": "~2.1.4",
      "model_name": "VBoxModel",
      "state": {
       "_dom_classes": [
        "widget-interact"
       ],
       "_model_module_version": "~2.1.4",
       "_view_module_version": "~2.1.4",
       "children": [
        "IPY_MODEL_2b3de6b64d74429cab9ba44034756a5b",
        "IPY_MODEL_570458a1809a4a13817a4c5d5e2abf32",
        "IPY_MODEL_20a2938b91244d7f825bcf9fb7e78700",
        "IPY_MODEL_848786a450aa40b69ad79e758b04e17f"
       ],
       "layout": "IPY_MODEL_f2e7aa879c3d4d99a42310b59feec25e"
      }
     },
     "dfb72f504dfa40f88a0dc3113241d17d": {
      "model_module": "jupyter-js-widgets",
      "model_module_version": "~2.1.4",
      "model_name": "FloatSliderModel",
      "state": {
       "_model_module_version": "~2.1.4",
       "_view_module_version": "~2.1.4",
       "description": "beta_1",
       "layout": "IPY_MODEL_cfa673b64d5d4bd9b215e8438fe83d75",
       "max": 5,
       "step": 0.1,
       "value": 2
      }
     },
     "e3ebf12bbf834efe8425201985011161": {
      "model_module": "jupyter-js-widgets",
      "model_module_version": "~2.1.4",
      "model_name": "LayoutModel",
      "state": {
       "_model_module_version": "~2.1.4",
       "_view_module_version": "~2.1.4"
      }
     },
     "e4dd777913194c1a88de171eb695a1e0": {
      "model_module": "jupyter-js-widgets",
      "model_module_version": "~2.1.4",
      "model_name": "OutputModel",
      "state": {
       "_dom_classes": [],
       "_model_module": "jupyter-js-widgets",
       "_model_module_version": "~2.1.4",
       "_view_module": "jupyter-js-widgets",
       "_view_module_version": "~2.1.4",
       "layout": "IPY_MODEL_9e473a075a634cc8a6aa261148ac8c80",
       "msg_throttle": 1
      }
     },
     "e6d240e227b145e385d8625da7ead2d5": {
      "model_module": "jupyter-js-widgets",
      "model_module_version": "~2.1.4",
      "model_name": "FloatSliderModel",
      "state": {
       "_model_module_version": "~2.1.4",
       "_view_module_version": "~2.1.4",
       "description": "noise_magnitude",
       "layout": "IPY_MODEL_34adfc342cb04b6496c50bb2c56b9378",
       "max": 10,
       "step": 0.1,
       "value": 5
      }
     },
     "e6d868b83c654229ac5a93a3b5dc91e4": {
      "model_module": "jupyter-js-widgets",
      "model_module_version": "~2.1.4",
      "model_name": "FloatSliderModel",
      "state": {
       "_model_module_version": "~2.1.4",
       "_view_module_version": "~2.1.4",
       "description": "beta_0",
       "layout": "IPY_MODEL_86e2b74b1ade44ecae0501fb5c3abf94",
       "max": 2,
       "min": -2,
       "step": 0.1
      }
     },
     "e830827e01b3428b900993c8d808efe7": {
      "model_module": "jupyter-js-widgets",
      "model_module_version": "~2.1.4",
      "model_name": "LayoutModel",
      "state": {
       "_model_module_version": "~2.1.4",
       "_view_module_version": "~2.1.4"
      }
     },
     "e84af37c0835467288288077e0d12702": {
      "model_module": "jupyter-js-widgets",
      "model_module_version": "~2.1.4",
      "model_name": "FloatSliderModel",
      "state": {
       "_model_module_version": "~2.1.4",
       "_view_module_version": "~2.1.4",
       "description": "beta_0",
       "layout": "IPY_MODEL_bd75868aae0442a68659bd8eac01c12c",
       "max": 2,
       "min": -2,
       "step": 0.1
      }
     },
     "e84e8d05f42c41c4baa9282bfb5b5dac": {
      "model_module": "jupyter-js-widgets",
      "model_module_version": "~2.1.4",
      "model_name": "LayoutModel",
      "state": {
       "_model_module_version": "~2.1.4",
       "_view_module_version": "~2.1.4"
      }
     },
     "eb09aaf0faeb48999f3c4ff883420052": {
      "model_module": "jupyter-js-widgets",
      "model_module_version": "~2.1.4",
      "model_name": "LayoutModel",
      "state": {
       "_model_module_version": "~2.1.4",
       "_view_module_version": "~2.1.4"
      }
     },
     "ecc07aa2ee7d45ae82c2b1bc628a37a0": {
      "model_module": "jupyter-js-widgets",
      "model_module_version": "~2.1.4",
      "model_name": "LayoutModel",
      "state": {
       "_model_module_version": "~2.1.4",
       "_view_module_version": "~2.1.4"
      }
     },
     "ee159154f71b48beac2cc2d1b028bc55": {
      "model_module": "jupyter-js-widgets",
      "model_module_version": "~2.1.4",
      "model_name": "LayoutModel",
      "state": {
       "_model_module_version": "~2.1.4",
       "_view_module_version": "~2.1.4"
      }
     },
     "ef2b9f1c1a2b4d769ae0cf1018523cdd": {
      "model_module": "jupyter-js-widgets",
      "model_module_version": "~2.1.4",
      "model_name": "FloatSliderModel",
      "state": {
       "_model_module_version": "~2.1.4",
       "_view_module_version": "~2.1.4",
       "description": "beta_1",
       "layout": "IPY_MODEL_6af76e21343849109a532b61a3a28720",
       "max": 5,
       "step": 0.1,
       "value": 2
      }
     },
     "f0718bf367ff4729a90be4fd24bb4386": {
      "model_module": "jupyter-js-widgets",
      "model_module_version": "~2.1.4",
      "model_name": "LayoutModel",
      "state": {
       "_model_module_version": "~2.1.4",
       "_view_module_version": "~2.1.4"
      }
     },
     "f14da484a09d42b09274bbd428e12ae4": {
      "model_module": "jupyter-js-widgets",
      "model_module_version": "~2.1.4",
      "model_name": "VBoxModel",
      "state": {
       "_dom_classes": [
        "widget-interact"
       ],
       "_model_module_version": "~2.1.4",
       "_view_module_version": "~2.1.4",
       "children": [
        "IPY_MODEL_e6d868b83c654229ac5a93a3b5dc91e4",
        "IPY_MODEL_44476c39be2c4ee4a2eac538f28ffaa9",
        "IPY_MODEL_dcc2868554634a50aa55d810ee82b3bf",
        "IPY_MODEL_c16c4323e5344fba90822723d7383466"
       ],
       "layout": "IPY_MODEL_0727209e16d74cca9a5370a974cfac47"
      }
     },
     "f2e7aa879c3d4d99a42310b59feec25e": {
      "model_module": "jupyter-js-widgets",
      "model_module_version": "~2.1.4",
      "model_name": "LayoutModel",
      "state": {
       "_model_module_version": "~2.1.4",
       "_view_module_version": "~2.1.4"
      }
     },
     "f8396954275b4faba4cc98ba6ca25411": {
      "model_module": "jupyter-js-widgets",
      "model_module_version": "~2.1.4",
      "model_name": "LayoutModel",
      "state": {
       "_model_module_version": "~2.1.4",
       "_view_module_version": "~2.1.4"
      }
     },
     "f8a5c681a97c4fc293a56779516ffc12": {
      "model_module": "jupyter-js-widgets",
      "model_module_version": "~2.1.4",
      "model_name": "FloatSliderModel",
      "state": {
       "_model_module_version": "~2.1.4",
       "_view_module_version": "~2.1.4",
       "description": "beta_0",
       "layout": "IPY_MODEL_608b8d3f79314c1791cbd2af27daadf0",
       "max": 10,
       "min": -1,
       "step": 0.1
      }
     },
     "f8ed65346c05483ea4d464d504a13352": {
      "model_module": "jupyter-js-widgets",
      "model_module_version": "~2.1.4",
      "model_name": "LayoutModel",
      "state": {
       "_model_module_version": "~2.1.4",
       "_view_module_version": "~2.1.4"
      }
     },
     "f9403bbfa67b400eaee5e58d7944f461": {
      "model_module": "jupyter-js-widgets",
      "model_module_version": "~2.1.4",
      "model_name": "LayoutModel",
      "state": {
       "_model_module_version": "~2.1.4",
       "_view_module_version": "~2.1.4"
      }
     },
     "fdb441c9f53c4c848d76e3b5329e8121": {
      "model_module": "jupyter-js-widgets",
      "model_module_version": "~2.1.4",
      "model_name": "LayoutModel",
      "state": {
       "_model_module_version": "~2.1.4",
       "_view_module_version": "~2.1.4"
      }
     },
     "fe7cb255a9de486e8eeed5fabc7ff3c9": {
      "model_module": "jupyter-js-widgets",
      "model_module_version": "~2.1.4",
      "model_name": "VBoxModel",
      "state": {
       "_dom_classes": [
        "widget-interact"
       ],
       "_model_module_version": "~2.1.4",
       "_view_module_version": "~2.1.4",
       "children": [
        "IPY_MODEL_f8a5c681a97c4fc293a56779516ffc12",
        "IPY_MODEL_a76ea01429324e0d92ff9dea7b35e654",
        "IPY_MODEL_560dd1c7340f4d32a0096684c5859cfe",
        "IPY_MODEL_1eb19033076b43958ea2697c68c76dc7"
       ],
       "layout": "IPY_MODEL_da035b42f03d47eda981a237879e4605"
      }
     },
     "fe836d8c33ac4039b5440a2491f2595a": {
      "model_module": "jupyter-js-widgets",
      "model_module_version": "~2.1.4",
      "model_name": "LayoutModel",
      "state": {
       "_model_module_version": "~2.1.4",
       "_view_module_version": "~2.1.4"
      }
     },
     "fedda1ef0ebe4595a801de257753dc23": {
      "model_module": "jupyter-js-widgets",
      "model_module_version": "~2.1.4",
      "model_name": "LayoutModel",
      "state": {
       "_model_module_version": "~2.1.4",
       "_view_module_version": "~2.1.4"
      }
     }
    },
    "version_major": 1,
    "version_minor": 0
   }
  }
 },
 "nbformat": 4,
 "nbformat_minor": 2
}
